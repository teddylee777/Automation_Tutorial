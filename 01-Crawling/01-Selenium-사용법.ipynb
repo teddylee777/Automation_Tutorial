{
 "cells": [
  {
   "cell_type": "markdown",
   "id": "87f02fdd",
   "metadata": {},
   "source": [
    "## 크롬 드라이버 다운로드"
   ]
  },
  {
   "cell_type": "markdown",
   "id": "9730f1fa",
   "metadata": {},
   "source": [
    "- Chome 브라우저 - 설정 - Chrome 정보 - Chrome 브라우저의 버전 확인\n",
    "- 버전에 맞는 `chromedriver.exe` 파일 다운로드\n",
    "- [다운로드 링크](https://sites.google.com/chromium.org/driver/downloads?authuser=0)"
   ]
  },
  {
   "cell_type": "markdown",
   "id": "d2ec7c56",
   "metadata": {},
   "source": [
    "## STEP 1) 새로운 브라우저 띄우기"
   ]
  },
  {
   "cell_type": "code",
   "execution_count": 1,
   "id": "28ebbf15",
   "metadata": {},
   "outputs": [
    {
     "name": "stderr",
     "output_type": "stream",
     "text": [
      "\n",
      "\n",
      "====== WebDriver manager ======\n",
      "Current google-chrome version is 97.0.4692\n",
      "Get LATEST chromedriver version for 97.0.4692 google-chrome\n",
      "Trying to download new driver from https://chromedriver.storage.googleapis.com/97.0.4692.71/chromedriver_win32.zip\n",
      "Driver has been saved in cache [C:\\Users\\teddy-pangyo\\.wdm\\drivers\\chromedriver\\win32\\97.0.4692.71]\n"
     ]
    }
   ],
   "source": [
    "from selenium import webdriver\n",
    "from selenium.webdriver.chrome.service import Service\n",
    "from webdriver_manager.chrome import ChromeDriverManager\n",
    "import warnings\n",
    "\n",
    "warnings.filterwarnings('ignore')\n",
    "\n",
    "driver = webdriver.Chrome(service=Service(ChromeDriverManager().install()))"
   ]
  },
  {
   "cell_type": "markdown",
   "id": "33929d33",
   "metadata": {},
   "source": [
    "## STEP 2) 원하는 사이트 접속하기"
   ]
  },
  {
   "cell_type": "code",
   "execution_count": 9,
   "id": "61877748",
   "metadata": {},
   "outputs": [],
   "source": [
    "url = 'https://news.naver.com/main/main.naver?mode=LSD&mid=shm&sid1=100'\n",
    "driver.get(url)"
   ]
  },
  {
   "cell_type": "markdown",
   "id": "2aaf1907",
   "metadata": {},
   "source": [
    "## STEP 3) 원하는 영역 가져오기"
   ]
  },
  {
   "cell_type": "code",
   "execution_count": 10,
   "id": "62f50983",
   "metadata": {},
   "outputs": [
    {
     "data": {
      "text/plain": [
       "<selenium.webdriver.remote.webelement.WebElement (session=\"ae16cc87692c9e8271ee95cf88f7581f\", element=\"a03df0ff-301f-4f8e-aa15-c7152829e9cb\")>"
      ]
     },
     "execution_count": 10,
     "metadata": {},
     "output_type": "execute_result"
    }
   ],
   "source": [
    "newslist = driver.find_element_by_xpath('//*[@id=\"right_dailyList\"]/div')\n",
    "newslist"
   ]
  },
  {
   "cell_type": "markdown",
   "id": "fdaa729d",
   "metadata": {},
   "source": [
    "## STEP 4) 뉴스 리스트 받아오기"
   ]
  },
  {
   "cell_type": "code",
   "execution_count": 11,
   "id": "e8409332",
   "metadata": {},
   "outputs": [
    {
     "data": {
      "text/plain": [
       "[<selenium.webdriver.remote.webelement.WebElement (session=\"ae16cc87692c9e8271ee95cf88f7581f\", element=\"110a1e1d-98c9-4ab6-be91-e3b7e876e7a4\")>,\n",
       " <selenium.webdriver.remote.webelement.WebElement (session=\"ae16cc87692c9e8271ee95cf88f7581f\", element=\"5738a6d1-e754-4cdf-9a7f-29a4c29d750c\")>,\n",
       " <selenium.webdriver.remote.webelement.WebElement (session=\"ae16cc87692c9e8271ee95cf88f7581f\", element=\"ff967312-cbee-44bc-975e-2959e68de854\")>,\n",
       " <selenium.webdriver.remote.webelement.WebElement (session=\"ae16cc87692c9e8271ee95cf88f7581f\", element=\"eed21752-9c91-4a43-9659-993fb2c9f74d\")>,\n",
       " <selenium.webdriver.remote.webelement.WebElement (session=\"ae16cc87692c9e8271ee95cf88f7581f\", element=\"23ee43d4-35c2-45f5-a3ab-dff60dc636c8\")>,\n",
       " <selenium.webdriver.remote.webelement.WebElement (session=\"ae16cc87692c9e8271ee95cf88f7581f\", element=\"77befff7-ed26-48f6-99b2-ab028cbded4b\")>,\n",
       " <selenium.webdriver.remote.webelement.WebElement (session=\"ae16cc87692c9e8271ee95cf88f7581f\", element=\"9a06dd76-1089-4087-8a95-8a5293a99755\")>,\n",
       " <selenium.webdriver.remote.webelement.WebElement (session=\"ae16cc87692c9e8271ee95cf88f7581f\", element=\"7adec1b0-1e4e-4b2e-956f-ad34417add1d\")>,\n",
       " <selenium.webdriver.remote.webelement.WebElement (session=\"ae16cc87692c9e8271ee95cf88f7581f\", element=\"dc21fb51-4d7b-46b2-b0a7-84bab1f3a8ec\")>,\n",
       " <selenium.webdriver.remote.webelement.WebElement (session=\"ae16cc87692c9e8271ee95cf88f7581f\", element=\"fec2febd-87cb-4238-bff5-9c80b52db66a\")>,\n",
       " <selenium.webdriver.remote.webelement.WebElement (session=\"ae16cc87692c9e8271ee95cf88f7581f\", element=\"06bd329c-8540-4ca3-b228-e57e9e7aaeee\")>,\n",
       " <selenium.webdriver.remote.webelement.WebElement (session=\"ae16cc87692c9e8271ee95cf88f7581f\", element=\"37a7d2d6-4cb9-4d81-8f1f-06ed86701d79\")>,\n",
       " <selenium.webdriver.remote.webelement.WebElement (session=\"ae16cc87692c9e8271ee95cf88f7581f\", element=\"47ef71d5-2afc-481d-bb18-756b08bfeac3\")>,\n",
       " <selenium.webdriver.remote.webelement.WebElement (session=\"ae16cc87692c9e8271ee95cf88f7581f\", element=\"737f7ecc-d1c5-41ae-94bc-03a4af433a0b\")>,\n",
       " <selenium.webdriver.remote.webelement.WebElement (session=\"ae16cc87692c9e8271ee95cf88f7581f\", element=\"09b28379-f5be-4c4a-b0da-8b7a66a9b3f9\")>]"
      ]
     },
     "execution_count": 11,
     "metadata": {},
     "output_type": "execute_result"
    }
   ],
   "source": [
    "news_links = newslist.find_elements_by_tag_name('a')\n",
    "news_links"
   ]
  },
  {
   "cell_type": "markdown",
   "id": "15d6f30a",
   "metadata": {},
   "source": [
    "## STEP 5) 뉴스 제목과 링크 받아오기"
   ]
  },
  {
   "cell_type": "code",
   "execution_count": 12,
   "id": "056cbe65",
   "metadata": {},
   "outputs": [
    {
     "name": "stdout",
     "output_type": "stream",
     "text": [
      "김건희, 기자에게 도와달라며 \"잘하면 1억 줄 수도\"\n",
      "https://news.naver.com/main/read.naver?mode=LSD&mid=shm&sid1=100&oid=047&aid=0002339195\n",
      "文대통령 \"수소산업, 탄소중립 열쇠\"…한-UAE 수소협력 적극 지원(종합)\n",
      "https://news.naver.com/main/read.naver?mode=LSD&mid=shm&sid1=100&oid=421&aid=0005847669\n",
      "李 '금강산 관광 재개' 공약‥'선제타격' 비판하며 \"평화가 경제\"\n",
      "https://news.naver.com/main/read.naver?mode=LSD&mid=shm&sid1=100&oid=214&aid=0001172708\n",
      "끓어오른 남태평양…일본·미국까지 ‘쓰나미 공포’\n",
      "https://news.naver.com/main/read.naver?mode=LSD&mid=shm&sid1=104&oid=032&aid=0003122959\n",
      "中 단둥에 화물열차 보낸 北… ‘북한판 위드코로나’ 시도하나\n",
      "https://news.naver.com/main/read.naver?mode=LSD&mid=shm&sid1=104&oid=022&aid=0003657998\n",
      "[속보] 정몽규 HDC 회장, 17일 대국민 사과 \"사퇴 가능성\"\n",
      "https://news.naver.com/main/read.naver?mode=LSD&mid=shm&sid1=101&oid=088&aid=0000740832\n",
      "금리 오르고 자산가격은 하락세… 속타는 영끌·빚투족\n",
      "https://news.naver.com/main/read.naver?mode=LSD&mid=shm&sid1=101&oid=022&aid=0003658002\n",
      "[기획] 나랏빚 폭증에도 브레이크 없는 돈 풀기\n",
      "https://news.naver.com/main/read.naver?mode=LSD&mid=shm&sid1=101&oid=029&aid=0002716229\n",
      "“이것 보고 싶으면 돈 더내” 요금 또 올리는 넷플릭스 배짱\n",
      "https://news.naver.com/main/read.naver?mode=LSD&mid=shm&sid1=105&oid=016&aid=0001938142\n",
      "\"BTS 출연한 '세븐 페이츠: 착호', 우리도 글로벌 반응 궁금\"\n",
      "https://news.naver.com/main/read.naver?mode=LSD&mid=shm&sid1=105&oid=025&aid=0003166862\n",
      "전국 백화점·마트 방역패스 해제하기로…\"불편·혼란 최소화\"(종합)\n",
      "https://news.naver.com/main/read.naver?mode=LSD&mid=shm&sid1=102&oid=001&aid=0012921688\n",
      "대장동 수사, 종착역은 ‘윗선 의혹’ 규명이다\n",
      "https://news.naver.com/main/read.naver?mode=LSD&mid=shm&sid1=102&oid=308&aid=0000030082\n",
      "경찰, 붕괴된 화정아이파크 콘크리트 타설 '대리 시공' 정황 포착\n",
      "https://news.naver.com/main/read.naver?mode=LSD&mid=shm&sid1=102&oid=088&aid=0000740831\n",
      "[날씨] 다시 매서워지는 칼바람‥내일 아침 서울 영하 9 도\n",
      "https://news.naver.com/main/read.naver?mode=LSD&mid=shm&sid1=103&oid=214&aid=0001172719\n",
      "홍성흔·김정임도 각방 쓴다, 잉꼬부부도 못참는 '이것'\n",
      "https://news.naver.com/main/read.naver?mode=LSD&mid=shm&sid1=103&oid=025&aid=0003166893\n"
     ]
    }
   ],
   "source": [
    "for news in news_links:\n",
    "    print(news.text)\n",
    "    print(news.get_attribute('href'))"
   ]
  },
  {
   "cell_type": "code",
   "execution_count": 13,
   "id": "8f7eb2ec",
   "metadata": {},
   "outputs": [],
   "source": [
    "import pandas as pd"
   ]
  },
  {
   "cell_type": "code",
   "execution_count": 15,
   "id": "15b71fa4",
   "metadata": {},
   "outputs": [],
   "source": [
    "news_data = {\n",
    "    'title': [],\n",
    "    'link': [],\n",
    "}\n",
    "\n",
    "for news in news_links:\n",
    "#     print(news.text)\n",
    "    news_data['title'].append(news.text)\n",
    "    \n",
    "#     print(news.get_attribute('href'))\n",
    "    news_data['link'].append(news.get_attribute('href'))"
   ]
  },
  {
   "cell_type": "code",
   "execution_count": 17,
   "id": "540e41fb",
   "metadata": {},
   "outputs": [
    {
     "data": {
      "text/html": [
       "<div>\n",
       "<style scoped>\n",
       "    .dataframe tbody tr th:only-of-type {\n",
       "        vertical-align: middle;\n",
       "    }\n",
       "\n",
       "    .dataframe tbody tr th {\n",
       "        vertical-align: top;\n",
       "    }\n",
       "\n",
       "    .dataframe thead th {\n",
       "        text-align: right;\n",
       "    }\n",
       "</style>\n",
       "<table border=\"1\" class=\"dataframe\">\n",
       "  <thead>\n",
       "    <tr style=\"text-align: right;\">\n",
       "      <th></th>\n",
       "      <th>title</th>\n",
       "      <th>link</th>\n",
       "    </tr>\n",
       "  </thead>\n",
       "  <tbody>\n",
       "    <tr>\n",
       "      <th>0</th>\n",
       "      <td>김건희, 기자에게 도와달라며 \"잘하면 1억 줄 수도\"</td>\n",
       "      <td>https://news.naver.com/main/read.naver?mode=LS...</td>\n",
       "    </tr>\n",
       "    <tr>\n",
       "      <th>1</th>\n",
       "      <td>文대통령 \"수소산업, 탄소중립 열쇠\"…한-UAE 수소협력 적극 지원(종합)</td>\n",
       "      <td>https://news.naver.com/main/read.naver?mode=LS...</td>\n",
       "    </tr>\n",
       "    <tr>\n",
       "      <th>2</th>\n",
       "      <td>李 '금강산 관광 재개' 공약‥'선제타격' 비판하며 \"평화가 경제\"</td>\n",
       "      <td>https://news.naver.com/main/read.naver?mode=LS...</td>\n",
       "    </tr>\n",
       "    <tr>\n",
       "      <th>3</th>\n",
       "      <td>끓어오른 남태평양…일본·미국까지 ‘쓰나미 공포’</td>\n",
       "      <td>https://news.naver.com/main/read.naver?mode=LS...</td>\n",
       "    </tr>\n",
       "    <tr>\n",
       "      <th>4</th>\n",
       "      <td>中 단둥에 화물열차 보낸 北… ‘북한판 위드코로나’ 시도하나</td>\n",
       "      <td>https://news.naver.com/main/read.naver?mode=LS...</td>\n",
       "    </tr>\n",
       "    <tr>\n",
       "      <th>5</th>\n",
       "      <td>[속보] 정몽규 HDC 회장, 17일 대국민 사과 \"사퇴 가능성\"</td>\n",
       "      <td>https://news.naver.com/main/read.naver?mode=LS...</td>\n",
       "    </tr>\n",
       "    <tr>\n",
       "      <th>6</th>\n",
       "      <td>금리 오르고 자산가격은 하락세… 속타는 영끌·빚투족</td>\n",
       "      <td>https://news.naver.com/main/read.naver?mode=LS...</td>\n",
       "    </tr>\n",
       "    <tr>\n",
       "      <th>7</th>\n",
       "      <td>[기획] 나랏빚 폭증에도 브레이크 없는 돈 풀기</td>\n",
       "      <td>https://news.naver.com/main/read.naver?mode=LS...</td>\n",
       "    </tr>\n",
       "    <tr>\n",
       "      <th>8</th>\n",
       "      <td>“이것 보고 싶으면 돈 더내” 요금 또 올리는 넷플릭스 배짱</td>\n",
       "      <td>https://news.naver.com/main/read.naver?mode=LS...</td>\n",
       "    </tr>\n",
       "    <tr>\n",
       "      <th>9</th>\n",
       "      <td>\"BTS 출연한 '세븐 페이츠: 착호', 우리도 글로벌 반응 궁금\"</td>\n",
       "      <td>https://news.naver.com/main/read.naver?mode=LS...</td>\n",
       "    </tr>\n",
       "    <tr>\n",
       "      <th>10</th>\n",
       "      <td>전국 백화점·마트 방역패스 해제하기로…\"불편·혼란 최소화\"(종합)</td>\n",
       "      <td>https://news.naver.com/main/read.naver?mode=LS...</td>\n",
       "    </tr>\n",
       "    <tr>\n",
       "      <th>11</th>\n",
       "      <td>대장동 수사, 종착역은 ‘윗선 의혹’ 규명이다</td>\n",
       "      <td>https://news.naver.com/main/read.naver?mode=LS...</td>\n",
       "    </tr>\n",
       "    <tr>\n",
       "      <th>12</th>\n",
       "      <td>경찰, 붕괴된 화정아이파크 콘크리트 타설 '대리 시공' 정황 포착</td>\n",
       "      <td>https://news.naver.com/main/read.naver?mode=LS...</td>\n",
       "    </tr>\n",
       "    <tr>\n",
       "      <th>13</th>\n",
       "      <td>[날씨] 다시 매서워지는 칼바람‥내일 아침 서울 영하 9 도</td>\n",
       "      <td>https://news.naver.com/main/read.naver?mode=LS...</td>\n",
       "    </tr>\n",
       "    <tr>\n",
       "      <th>14</th>\n",
       "      <td>홍성흔·김정임도 각방 쓴다, 잉꼬부부도 못참는 '이것'</td>\n",
       "      <td>https://news.naver.com/main/read.naver?mode=LS...</td>\n",
       "    </tr>\n",
       "  </tbody>\n",
       "</table>\n",
       "</div>"
      ],
      "text/plain": [
       "                                        title  \\\n",
       "0               김건희, 기자에게 도와달라며 \"잘하면 1억 줄 수도\"   \n",
       "1   文대통령 \"수소산업, 탄소중립 열쇠\"…한-UAE 수소협력 적극 지원(종합)   \n",
       "2       李 '금강산 관광 재개' 공약‥'선제타격' 비판하며 \"평화가 경제\"   \n",
       "3                  끓어오른 남태평양…일본·미국까지 ‘쓰나미 공포’   \n",
       "4           中 단둥에 화물열차 보낸 北… ‘북한판 위드코로나’ 시도하나   \n",
       "5        [속보] 정몽규 HDC 회장, 17일 대국민 사과 \"사퇴 가능성\"   \n",
       "6                금리 오르고 자산가격은 하락세… 속타는 영끌·빚투족   \n",
       "7                  [기획] 나랏빚 폭증에도 브레이크 없는 돈 풀기   \n",
       "8           “이것 보고 싶으면 돈 더내” 요금 또 올리는 넷플릭스 배짱   \n",
       "9       \"BTS 출연한 '세븐 페이츠: 착호', 우리도 글로벌 반응 궁금\"   \n",
       "10       전국 백화점·마트 방역패스 해제하기로…\"불편·혼란 최소화\"(종합)   \n",
       "11                  대장동 수사, 종착역은 ‘윗선 의혹’ 규명이다   \n",
       "12       경찰, 붕괴된 화정아이파크 콘크리트 타설 '대리 시공' 정황 포착   \n",
       "13          [날씨] 다시 매서워지는 칼바람‥내일 아침 서울 영하 9 도   \n",
       "14             홍성흔·김정임도 각방 쓴다, 잉꼬부부도 못참는 '이것'   \n",
       "\n",
       "                                                 link  \n",
       "0   https://news.naver.com/main/read.naver?mode=LS...  \n",
       "1   https://news.naver.com/main/read.naver?mode=LS...  \n",
       "2   https://news.naver.com/main/read.naver?mode=LS...  \n",
       "3   https://news.naver.com/main/read.naver?mode=LS...  \n",
       "4   https://news.naver.com/main/read.naver?mode=LS...  \n",
       "5   https://news.naver.com/main/read.naver?mode=LS...  \n",
       "6   https://news.naver.com/main/read.naver?mode=LS...  \n",
       "7   https://news.naver.com/main/read.naver?mode=LS...  \n",
       "8   https://news.naver.com/main/read.naver?mode=LS...  \n",
       "9   https://news.naver.com/main/read.naver?mode=LS...  \n",
       "10  https://news.naver.com/main/read.naver?mode=LS...  \n",
       "11  https://news.naver.com/main/read.naver?mode=LS...  \n",
       "12  https://news.naver.com/main/read.naver?mode=LS...  \n",
       "13  https://news.naver.com/main/read.naver?mode=LS...  \n",
       "14  https://news.naver.com/main/read.naver?mode=LS...  "
      ]
     },
     "execution_count": 17,
     "metadata": {},
     "output_type": "execute_result"
    }
   ],
   "source": [
    "df = pd.DataFrame(news_data)\n",
    "df"
   ]
  },
  {
   "cell_type": "code",
   "execution_count": 18,
   "id": "bbf25b56",
   "metadata": {},
   "outputs": [],
   "source": [
    "df.to_excel('분야별주요뉴스.xlsx', index=False)"
   ]
  },
  {
   "cell_type": "code",
   "execution_count": null,
   "id": "b4358323",
   "metadata": {},
   "outputs": [],
   "source": []
  }
 ],
 "metadata": {
  "kernelspec": {
   "display_name": "Python 3 (ipykernel)",
   "language": "python",
   "name": "python3"
  },
  "language_info": {
   "codemirror_mode": {
    "name": "ipython",
    "version": 3
   },
   "file_extension": ".py",
   "mimetype": "text/x-python",
   "name": "python",
   "nbconvert_exporter": "python",
   "pygments_lexer": "ipython3",
   "version": "3.8.12"
  }
 },
 "nbformat": 4,
 "nbformat_minor": 5
}
