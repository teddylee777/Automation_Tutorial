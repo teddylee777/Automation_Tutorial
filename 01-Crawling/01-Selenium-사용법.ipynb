{
 "cells": [
  {
   "cell_type": "markdown",
   "id": "87f02fdd",
   "metadata": {},
   "source": [
    "## 크롬 드라이버 다운로드"
   ]
  },
  {
   "cell_type": "markdown",
   "id": "9730f1fa",
   "metadata": {},
   "source": [
    "- Chome 브라우저 - 설정 - Chrome 정보 - Chrome 브라우저의 버전 확인\n",
    "- 버전에 맞는 `chromedriver.exe` 파일 다운로드\n",
    "- [다운로드 링크](https://sites.google.com/chromium.org/driver/downloads?authuser=0)"
   ]
  },
  {
   "cell_type": "markdown",
   "id": "d2ec7c56",
   "metadata": {},
   "source": [
    "## STEP 1) 새로운 브라우저 띄우기"
   ]
  },
  {
   "cell_type": "code",
   "execution_count": 19,
   "id": "28ebbf15",
   "metadata": {},
   "outputs": [
    {
     "name": "stderr",
     "output_type": "stream",
     "text": [
      "\n",
      "\n",
      "====== WebDriver manager ======\n",
      "Current google-chrome version is 97.0.4692\n",
      "Get LATEST chromedriver version for 97.0.4692 google-chrome\n",
      "Driver [C:\\Users\\teddy-pangyo\\.wdm\\drivers\\chromedriver\\win32\\97.0.4692.71\\chromedriver.exe] found in cache\n"
     ]
    }
   ],
   "source": [
    "from selenium import webdriver\n",
    "from selenium.webdriver.chrome.service import Service\n",
    "from webdriver_manager.chrome import ChromeDriverManager\n",
    "import warnings\n",
    "\n",
    "warnings.filterwarnings('ignore')\n",
    "\n",
    "driver = webdriver.Chrome(service=Service(ChromeDriverManager().install()))"
   ]
  },
  {
   "cell_type": "markdown",
   "id": "33929d33",
   "metadata": {},
   "source": [
    "## STEP 2) 원하는 사이트 접속하기"
   ]
  },
  {
   "cell_type": "code",
   "execution_count": 20,
   "id": "61877748",
   "metadata": {},
   "outputs": [],
   "source": [
    "url = 'https://news.naver.com/main/main.naver?mode=LSD&mid=shm&sid1=100'\n",
    "driver.get(url)"
   ]
  },
  {
   "cell_type": "markdown",
   "id": "2aaf1907",
   "metadata": {},
   "source": [
    "## STEP 3) 원하는 영역 가져오기"
   ]
  },
  {
   "cell_type": "code",
   "execution_count": 28,
   "id": "62f50983",
   "metadata": {},
   "outputs": [
    {
     "data": {
      "text/plain": [
       "<selenium.webdriver.remote.webelement.WebElement (session=\"eb870a5c8ad1ddedc25de016fc542d0d\", element=\"0f4794d2-b914-402d-a388-c49284eea2f8\")>"
      ]
     },
     "execution_count": 28,
     "metadata": {},
     "output_type": "execute_result"
    }
   ],
   "source": [
    "newslist = driver.find_element_by_xpath('//*[@id=\"right_dailyList\"]/div')\n",
    "newslist"
   ]
  },
  {
   "cell_type": "markdown",
   "id": "fdaa729d",
   "metadata": {},
   "source": [
    "## STEP 4) 뉴스 리스트 받아오기"
   ]
  },
  {
   "cell_type": "code",
   "execution_count": 35,
   "id": "e8409332",
   "metadata": {},
   "outputs": [
    {
     "data": {
      "text/plain": [
       "[<selenium.webdriver.remote.webelement.WebElement (session=\"eb870a5c8ad1ddedc25de016fc542d0d\", element=\"162acb6a-eddf-4f4d-952b-025e7a4a51b9\")>,\n",
       " <selenium.webdriver.remote.webelement.WebElement (session=\"eb870a5c8ad1ddedc25de016fc542d0d\", element=\"5adc5424-8734-4c86-91e4-bf56e1955fda\")>,\n",
       " <selenium.webdriver.remote.webelement.WebElement (session=\"eb870a5c8ad1ddedc25de016fc542d0d\", element=\"d5dbd059-0605-4d57-b6b2-36ad5638dd8e\")>,\n",
       " <selenium.webdriver.remote.webelement.WebElement (session=\"eb870a5c8ad1ddedc25de016fc542d0d\", element=\"54245bfc-cca3-47db-a79e-18f03fac64a3\")>,\n",
       " <selenium.webdriver.remote.webelement.WebElement (session=\"eb870a5c8ad1ddedc25de016fc542d0d\", element=\"2ae3cc53-cff0-4ad7-9cc0-256cb34466dc\")>,\n",
       " <selenium.webdriver.remote.webelement.WebElement (session=\"eb870a5c8ad1ddedc25de016fc542d0d\", element=\"a022ac63-1181-46bb-b809-8bd25628aafd\")>,\n",
       " <selenium.webdriver.remote.webelement.WebElement (session=\"eb870a5c8ad1ddedc25de016fc542d0d\", element=\"f55ba6b9-ccab-4d44-9da8-1074fd3ab459\")>,\n",
       " <selenium.webdriver.remote.webelement.WebElement (session=\"eb870a5c8ad1ddedc25de016fc542d0d\", element=\"4d575b07-f6e5-4483-ba65-5dd0955a80c1\")>,\n",
       " <selenium.webdriver.remote.webelement.WebElement (session=\"eb870a5c8ad1ddedc25de016fc542d0d\", element=\"9bacaa19-e27a-41f2-b6c1-0df545f32e93\")>,\n",
       " <selenium.webdriver.remote.webelement.WebElement (session=\"eb870a5c8ad1ddedc25de016fc542d0d\", element=\"9c92e7a4-ae85-4797-a42a-5653a3eee8a0\")>,\n",
       " <selenium.webdriver.remote.webelement.WebElement (session=\"eb870a5c8ad1ddedc25de016fc542d0d\", element=\"f93f4041-0534-4864-8e6d-b7ebc6d37d68\")>,\n",
       " <selenium.webdriver.remote.webelement.WebElement (session=\"eb870a5c8ad1ddedc25de016fc542d0d\", element=\"4e4d04a1-1d3a-48da-81a1-191520f22ade\")>,\n",
       " <selenium.webdriver.remote.webelement.WebElement (session=\"eb870a5c8ad1ddedc25de016fc542d0d\", element=\"9711967d-cd63-43bb-9e8a-785306cc7c64\")>,\n",
       " <selenium.webdriver.remote.webelement.WebElement (session=\"eb870a5c8ad1ddedc25de016fc542d0d\", element=\"96864f47-6e91-4d79-891a-3134b735a3ef\")>,\n",
       " <selenium.webdriver.remote.webelement.WebElement (session=\"eb870a5c8ad1ddedc25de016fc542d0d\", element=\"4403f4b5-7fe9-443d-8154-c057fe2b45a3\")>]"
      ]
     },
     "execution_count": 35,
     "metadata": {},
     "output_type": "execute_result"
    }
   ],
   "source": [
    "news_links = newslist.find_elements_by_tag_name('a')\n",
    "news_links"
   ]
  },
  {
   "cell_type": "markdown",
   "id": "15d6f30a",
   "metadata": {},
   "source": [
    "## STEP 5) 뉴스 제목과 링크 받아오기"
   ]
  },
  {
   "cell_type": "code",
   "execution_count": 37,
   "id": "056cbe65",
   "metadata": {},
   "outputs": [
    {
     "name": "stdout",
     "output_type": "stream",
     "text": [
      "北, 美제재 하루만에 “강력 대응”… 8시간뒤 대낮 미사일 시위\n",
      "https://news.naver.com/main/read.naver?mode=LSD&mid=shm&sid1=100&oid=020&aid=0003405900\n",
      "법원 ‘김건희 7시간 통화’ 일부내용 방송 허용… 野 “불법녹음” 반발\n",
      "https://news.naver.com/main/read.naver?mode=LSD&mid=shm&sid1=100&oid=020&aid=0003405896\n",
      "순방 가는 文 \"안보실장 남아라\"…靑, 北 3번째 도발에 \"강한 유감\"(종합)\n",
      "https://news.naver.com/main/read.naver?mode=LSD&mid=shm&sid1=100&oid=421&aid=0005845909\n",
      "러 외무 \"서방과의 안보협상 관련 어떤 사태 전개에도 준비돼\"(종합)\n",
      "https://news.naver.com/main/read.naver?mode=LSD&mid=shm&sid1=104&oid=001&aid=0012919647\n",
      "첫 ‘돼지심장 이식’ 美환자, 알고보니 흉악범\n",
      "https://news.naver.com/main/read.naver?mode=LSD&mid=shm&sid1=104&oid=020&aid=0003405926\n",
      "대우조선 재매각? 공기업화?… 정부, 대안없어 고심\n",
      "https://news.naver.com/main/read.naver?mode=LSD&mid=shm&sid1=101&oid=023&aid=0003666447\n",
      "기준금리 1.25%로 인상, 올해 1~2회 더 올린다\n",
      "https://news.naver.com/main/read.naver?mode=LSD&mid=shm&sid1=101&oid=353&aid=0000041412\n",
      "‘1경 5203조’ LG엔솔 공모주 기관주문 사상 최대… 공모가는 30만원\n",
      "https://news.naver.com/main/read.naver?mode=LSD&mid=shm&sid1=101&oid=020&aid=0003405922\n",
      "[아!이뉴스] '넷플릭스법' 가속화…'P&E·멀티호밍' 대체 용어 찾기\n",
      "https://news.naver.com/main/read.naver?mode=LSD&mid=shm&sid1=105&oid=031&aid=0000648306\n",
      "6년만에 배터리 탈착되는 삼성 스마트폰 출시, '키즈폰·러기드폰'으로\n",
      "https://news.naver.com/main/read.naver?mode=LSD&mid=shm&sid1=105&oid=008&aid=0004696187\n",
      "서울 마트 - 백화점 ‘방역패스 정지’… 청소년, 모든 시설 ‘패스적용 제외’\n",
      "https://news.naver.com/main/read.naver?mode=LSD&mid=shm&sid1=102&oid=020&aid=0003405888\n",
      "스브스레터 이브닝 (1/14) : '김건희 녹취록' MBC서 몸싸움, 법원선 법리싸움\n",
      "https://news.naver.com/main/read.naver?mode=LSD&mid=shm&sid1=102&oid=055&aid=0000946717\n",
      "화이자 먹는치료제 2만1천명분 오늘 도착…내일부터 처방(종합)\n",
      "https://news.naver.com/main/read.naver?mode=LSD&mid=shm&sid1=102&oid=001&aid=0012917273\n",
      "\"국보까지 경매에\"…'재정난' 간송미술관 소장품 40억·45억원에\n",
      "https://news.naver.com/main/read.naver?mode=LSD&mid=shm&sid1=103&oid=018&aid=0005127300\n",
      "[날씨]오후부터 한파 주춤…주말 중서부 눈\n",
      "https://news.naver.com/main/read.naver?mode=LSD&mid=shm&sid1=103&oid=449&aid=0000220918\n"
     ]
    }
   ],
   "source": [
    "for news in news_links:\n",
    "    print(news.text)\n",
    "    print(news.get_attribute('href'))"
   ]
  },
  {
   "cell_type": "code",
   "execution_count": null,
   "id": "8f7eb2ec",
   "metadata": {},
   "outputs": [],
   "source": []
  }
 ],
 "metadata": {
  "kernelspec": {
   "display_name": "Python 3 (ipykernel)",
   "language": "python",
   "name": "python3"
  },
  "language_info": {
   "codemirror_mode": {
    "name": "ipython",
    "version": 3
   },
   "file_extension": ".py",
   "mimetype": "text/x-python",
   "name": "python",
   "nbconvert_exporter": "python",
   "pygments_lexer": "ipython3",
   "version": "3.8.12"
  }
 },
 "nbformat": 4,
 "nbformat_minor": 5
}
