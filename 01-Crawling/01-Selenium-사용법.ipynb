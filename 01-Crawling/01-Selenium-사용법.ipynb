{
 "cells": [
  {
   "cell_type": "markdown",
   "id": "87f02fdd",
   "metadata": {},
   "source": [
    "## 크롬 드라이버 다운로드"
   ]
  },
  {
   "cell_type": "markdown",
   "id": "9730f1fa",
   "metadata": {},
   "source": [
    "- Chome 브라우저 - 설정 - Chrome 정보 - Chrome 브라우저의 버전 확인\n",
    "- 버전에 맞는 `chromedriver.exe` 파일 다운로드\n",
    "- [다운로드 링크](https://sites.google.com/chromium.org/driver/downloads?authuser=0)"
   ]
  },
  {
   "cell_type": "markdown",
   "id": "d2ec7c56",
   "metadata": {},
   "source": [
    "## STEP 1) 새로운 브라우저 띄우기"
   ]
  },
  {
   "cell_type": "code",
   "execution_count": 1,
   "id": "28ebbf15",
   "metadata": {},
   "outputs": [
    {
     "name": "stderr",
     "output_type": "stream",
     "text": [
      "\n",
      "\n",
      "====== WebDriver manager ======\n",
      "Current google-chrome version is 97.0.4692\n",
      "Get LATEST chromedriver version for 97.0.4692 google-chrome\n",
      "Trying to download new driver from https://chromedriver.storage.googleapis.com/97.0.4692.71/chromedriver_win32.zip\n",
      "Driver has been saved in cache [C:\\Users\\teddy-pangyo\\.wdm\\drivers\\chromedriver\\win32\\97.0.4692.71]\n"
     ]
    }
   ],
   "source": [
    "from selenium import webdriver\n",
    "from selenium.webdriver.chrome.service import Service\n",
    "from webdriver_manager.chrome import ChromeDriverManager\n",
    "import warnings\n",
    "\n",
    "warnings.filterwarnings('ignore')\n",
    "\n",
    "driver = webdriver.Chrome(service=Service(ChromeDriverManager().install()))"
   ]
  },
  {
   "cell_type": "markdown",
   "id": "33929d33",
   "metadata": {},
   "source": [
    "## STEP 2) 원하는 사이트 접속하기"
   ]
  },
  {
   "cell_type": "code",
   "execution_count": 2,
   "id": "61877748",
   "metadata": {},
   "outputs": [],
   "source": [
    "url = 'https://news.naver.com/main/main.naver?mode=LSD&mid=shm&sid1=100'\n",
    "driver.get(url)"
   ]
  },
  {
   "cell_type": "markdown",
   "id": "2aaf1907",
   "metadata": {},
   "source": [
    "## STEP 3) 원하는 영역 가져오기"
   ]
  },
  {
   "cell_type": "code",
   "execution_count": 3,
   "id": "62f50983",
   "metadata": {},
   "outputs": [
    {
     "data": {
      "text/plain": [
       "<selenium.webdriver.remote.webelement.WebElement (session=\"ae16cc87692c9e8271ee95cf88f7581f\", element=\"6b64b00b-fc35-459c-b6eb-2b9ce70839c5\")>"
      ]
     },
     "execution_count": 3,
     "metadata": {},
     "output_type": "execute_result"
    }
   ],
   "source": [
    "newslist = driver.find_element_by_xpath('//*[@id=\"right_dailyList\"]/div')\n",
    "newslist"
   ]
  },
  {
   "cell_type": "markdown",
   "id": "fdaa729d",
   "metadata": {},
   "source": [
    "## STEP 4) 뉴스 리스트 받아오기"
   ]
  },
  {
   "cell_type": "code",
   "execution_count": 4,
   "id": "e8409332",
   "metadata": {},
   "outputs": [
    {
     "data": {
      "text/plain": [
       "[<selenium.webdriver.remote.webelement.WebElement (session=\"ae16cc87692c9e8271ee95cf88f7581f\", element=\"bc3e6a13-97e0-4b2b-a1dc-272336cc5969\")>,\n",
       " <selenium.webdriver.remote.webelement.WebElement (session=\"ae16cc87692c9e8271ee95cf88f7581f\", element=\"04057c35-b201-4f83-a1a4-150a5974cc91\")>,\n",
       " <selenium.webdriver.remote.webelement.WebElement (session=\"ae16cc87692c9e8271ee95cf88f7581f\", element=\"cda88afa-d65d-4f30-b6c1-a98016250835\")>,\n",
       " <selenium.webdriver.remote.webelement.WebElement (session=\"ae16cc87692c9e8271ee95cf88f7581f\", element=\"0c336d12-6e5c-4a57-a8d2-fd4976825e65\")>,\n",
       " <selenium.webdriver.remote.webelement.WebElement (session=\"ae16cc87692c9e8271ee95cf88f7581f\", element=\"54d871f0-74b0-4650-a456-8e6e080727a5\")>,\n",
       " <selenium.webdriver.remote.webelement.WebElement (session=\"ae16cc87692c9e8271ee95cf88f7581f\", element=\"08d0bb4b-1c62-43fb-97f3-54d1ec87ac4f\")>,\n",
       " <selenium.webdriver.remote.webelement.WebElement (session=\"ae16cc87692c9e8271ee95cf88f7581f\", element=\"494d4372-a28d-417d-939a-e38910c52100\")>,\n",
       " <selenium.webdriver.remote.webelement.WebElement (session=\"ae16cc87692c9e8271ee95cf88f7581f\", element=\"5d4ccf86-8eff-4af8-9af8-875b8b82cf6a\")>,\n",
       " <selenium.webdriver.remote.webelement.WebElement (session=\"ae16cc87692c9e8271ee95cf88f7581f\", element=\"8242ad26-5d40-42b3-b939-4c47c54fd01f\")>,\n",
       " <selenium.webdriver.remote.webelement.WebElement (session=\"ae16cc87692c9e8271ee95cf88f7581f\", element=\"aacb2f48-543e-4be5-b20b-a1b14c7791b5\")>,\n",
       " <selenium.webdriver.remote.webelement.WebElement (session=\"ae16cc87692c9e8271ee95cf88f7581f\", element=\"824c459d-6c77-45d2-9c09-c131fb7f0b28\")>,\n",
       " <selenium.webdriver.remote.webelement.WebElement (session=\"ae16cc87692c9e8271ee95cf88f7581f\", element=\"31ca9a53-f992-4452-87b2-529206c45ae6\")>,\n",
       " <selenium.webdriver.remote.webelement.WebElement (session=\"ae16cc87692c9e8271ee95cf88f7581f\", element=\"3e707c41-9b36-4a81-9046-55cc4192dbb1\")>,\n",
       " <selenium.webdriver.remote.webelement.WebElement (session=\"ae16cc87692c9e8271ee95cf88f7581f\", element=\"0bba1edf-0fc4-4c5f-a3cf-f560118fdfa0\")>,\n",
       " <selenium.webdriver.remote.webelement.WebElement (session=\"ae16cc87692c9e8271ee95cf88f7581f\", element=\"04b2bb4d-866f-4215-bc21-f60786be2bae\")>]"
      ]
     },
     "execution_count": 4,
     "metadata": {},
     "output_type": "execute_result"
    }
   ],
   "source": [
    "news_links = newslist.find_elements_by_tag_name('a')\n",
    "news_links"
   ]
  },
  {
   "cell_type": "markdown",
   "id": "15d6f30a",
   "metadata": {},
   "source": [
    "## STEP 5) 뉴스 제목과 링크 받아오기"
   ]
  },
  {
   "cell_type": "code",
   "execution_count": 5,
   "id": "056cbe65",
   "metadata": {},
   "outputs": [
    {
     "name": "stdout",
     "output_type": "stream",
     "text": [
      "김건희, 기자에게 도와달라며 \"잘하면 1억 줄 수도\"\n",
      "https://news.naver.com/main/read.naver?mode=LSD&mid=shm&sid1=100&oid=047&aid=0002339195\n",
      "文대통령 \"韓-UAE 연대·협력으로 수소산업 키우면 새로운 기회\"(종합)\n",
      "https://news.naver.com/main/read.naver?mode=LSD&mid=shm&sid1=100&oid=277&aid=0005031321\n",
      "李 '금강산 관광 재개' 공약‥'선제타격' 비판하며 \"평화가 경제\"\n",
      "https://news.naver.com/main/read.naver?mode=LSD&mid=shm&sid1=100&oid=214&aid=0001172708\n",
      "끓어오른 남태평양…일본·미국까지 ‘쓰나미 공포’\n",
      "https://news.naver.com/main/read.naver?mode=LSD&mid=shm&sid1=104&oid=032&aid=0003122959\n",
      "中 단둥에 화물열차 보낸 北… ‘북한판 위드코로나’ 시도하나\n",
      "https://news.naver.com/main/read.naver?mode=LSD&mid=shm&sid1=104&oid=022&aid=0003657998\n",
      "[속보] 정몽규 HDC 회장, 17일 대국민 사과 \"사퇴 가능성\"\n",
      "https://news.naver.com/main/read.naver?mode=LSD&mid=shm&sid1=101&oid=088&aid=0000740832\n",
      "금리 오르고 자산가격은 하락세… 속타는 영끌·빚투족\n",
      "https://news.naver.com/main/read.naver?mode=LSD&mid=shm&sid1=101&oid=022&aid=0003658002\n",
      "'추경 지원금' 빨라야 2월 중·하순 지급...1인당 국가채무 2000만원 첫 돌파\n",
      "https://news.naver.com/main/read.naver?mode=LSD&mid=shm&sid1=101&oid=469&aid=0000652973\n",
      "“이것 보고 싶으면 돈 더내” 요금 또 올리는 넷플릭스 배짱\n",
      "https://news.naver.com/main/read.naver?mode=LSD&mid=shm&sid1=105&oid=016&aid=0001938142\n",
      "\"BTS 출연한 '세븐 페이츠: 착호', 우리도 글로벌 반응 궁금\"\n",
      "https://news.naver.com/main/read.naver?mode=LSD&mid=shm&sid1=105&oid=025&aid=0003166862\n",
      "전국 백화점·마트 방역패스 해제하기로…\"불편·혼란 최소화\"(종합)\n",
      "https://news.naver.com/main/read.naver?mode=LSD&mid=shm&sid1=102&oid=001&aid=0012921688\n",
      "대장동 수사, 종착역은 ‘윗선 의혹’ 규명이다\n",
      "https://news.naver.com/main/read.naver?mode=LSD&mid=shm&sid1=102&oid=308&aid=0000030082\n",
      "경찰, 붕괴된 화정아이파크 콘크리트 타설 '대리 시공' 정황 포착\n",
      "https://news.naver.com/main/read.naver?mode=LSD&mid=shm&sid1=102&oid=088&aid=0000740831\n",
      "[뉴스9 날씨] 중부·전북·경북 한파특보!…내일 서울 -9도\n",
      "https://news.naver.com/main/read.naver?mode=LSD&mid=shm&sid1=103&oid=056&aid=0011195982\n",
      "홍성흔·김정임도 각방 쓴다, 잉꼬부부도 못참는 '이것'\n",
      "https://news.naver.com/main/read.naver?mode=LSD&mid=shm&sid1=103&oid=025&aid=0003166893\n"
     ]
    }
   ],
   "source": [
    "for news in news_links:\n",
    "    print(news.text)\n",
    "    print(news.get_attribute('href'))"
   ]
  },
  {
   "cell_type": "code",
   "execution_count": null,
   "id": "8f7eb2ec",
   "metadata": {},
   "outputs": [],
   "source": []
  }
 ],
 "metadata": {
  "kernelspec": {
   "display_name": "Python 3 (ipykernel)",
   "language": "python",
   "name": "python3"
  },
  "language_info": {
   "codemirror_mode": {
    "name": "ipython",
    "version": 3
   },
   "file_extension": ".py",
   "mimetype": "text/x-python",
   "name": "python",
   "nbconvert_exporter": "python",
   "pygments_lexer": "ipython3",
   "version": "3.8.12"
  }
 },
 "nbformat": 4,
 "nbformat_minor": 5
}
