{
 "cells": [
  {
   "cell_type": "markdown",
   "id": "c1e54d57",
   "metadata": {},
   "source": [
    "## 국내 SMS 발송\n",
    "\n",
    "1. [쿨에스엠에스(회원가입)](https://console.coolsms.co.kr/)\n",
    "2. `APIKEY`와 `API_SECRET` 키 발급\n",
    "3. python 패키지 설치\n",
    "4. 발신번호 등록"
   ]
  },
  {
   "cell_type": "markdown",
   "id": "70bde927",
   "metadata": {},
   "source": [
    "## APIKEY & API_SECRET 키 발급"
   ]
  },
  {
   "cell_type": "code",
   "execution_count": 11,
   "id": "095cc7b3",
   "metadata": {},
   "outputs": [],
   "source": [
    "API_KEY = \"인증 KEY 입력\"\n",
    "API_SECRET = \"인증SECRET 입력\""
   ]
  },
  {
   "cell_type": "markdown",
   "id": "2170c8aa",
   "metadata": {},
   "source": [
    "## 패키지 설치"
   ]
  },
  {
   "cell_type": "code",
   "execution_count": 5,
   "id": "c9edecb8",
   "metadata": {},
   "outputs": [
    {
     "name": "stdout",
     "output_type": "stream",
     "text": [
      "Collecting coolsms_python_sdk\n",
      "  Downloading coolsms_python_sdk-2.0.3.zip (11 kB)\n",
      "Building wheels for collected packages: coolsms-python-sdk\n",
      "  Building wheel for coolsms-python-sdk (setup.py): started\n",
      "  Building wheel for coolsms-python-sdk (setup.py): finished with status 'done'\n",
      "  Created wheel for coolsms-python-sdk: filename=coolsms_python_sdk-2.0.3-py3-none-any.whl size=9930 sha256=3b10d986fe9b13a5bff6843b5b30e6830655121bef8ffb3ab8af40fe67943215\n",
      "  Stored in directory: c:\\users\\teddy-pangyo\\appdata\\local\\pip\\cache\\wheels\\f2\\df\\ef\\63ef961c36f361d245f9d373340f38401dc0acd552dd393d8e\n",
      "Successfully built coolsms-python-sdk\n",
      "Installing collected packages: coolsms-python-sdk\n",
      "Successfully installed coolsms-python-sdk-2.0.3\n"
     ]
    }
   ],
   "source": [
    "# python 패키지 설치\n",
    "!pip install coolsms_python_sdk"
   ]
  },
  {
   "cell_type": "code",
   "execution_count": 13,
   "id": "94ff02aa",
   "metadata": {},
   "outputs": [
    {
     "name": "stdout",
     "output_type": "stream",
     "text": [
      "Success Count : 0\n",
      "Error Count : 1\n",
      "Group ID : R2GyvHvgBe4sH2LE\n",
      "Error List : {'1': '1049'}\n"
     ]
    }
   ],
   "source": [
    "import sys\n",
    "from sdk.api.message import Message\n",
    "from sdk.exceptions import CoolsmsException\n",
    "\n",
    "\n",
    "params = dict()\n",
    "params['type'] = 'sms' # sms, lms, mms, ata\n",
    "params['from'] = '등록된 전화번호' \n",
    "params['to'] = '발송전화번호' \n",
    "params['text'] = 'Test Message' # 메시지 입력\n",
    "    \n",
    "cool = Message(API_KEY, API_SECRET)\n",
    "\n",
    "try:\n",
    "    response = cool.send(params)\n",
    "    print(f\"Success Count : {response['success_count']}\" )\n",
    "    print(f\"Error Count : {response['error_count']}\")\n",
    "    print(f\"Group ID : {response['group_id']}\")\n",
    "    \n",
    "    if \"error_list\" in response:\n",
    "        print(f\"Error List : {response['error_list']}\")\n",
    "        \n",
    "except CoolsmsException as e:\n",
    "    print(f\"Error Code : {e.code}\")\n",
    "    print(f\"Error Message : {e.msg}\")"
   ]
  }
 ],
 "metadata": {
  "kernelspec": {
   "display_name": "Python 3 (ipykernel)",
   "language": "python",
   "name": "python3"
  },
  "language_info": {
   "codemirror_mode": {
    "name": "ipython",
    "version": 3
   },
   "file_extension": ".py",
   "mimetype": "text/x-python",
   "name": "python",
   "nbconvert_exporter": "python",
   "pygments_lexer": "ipython3",
   "version": "3.8.12"
  }
 },
 "nbformat": 4,
 "nbformat_minor": 5
}
