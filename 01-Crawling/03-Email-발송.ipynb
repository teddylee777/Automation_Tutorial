{
 "cells": [
  {
   "cell_type": "code",
   "execution_count": null,
   "id": "543011a5",
   "metadata": {},
   "outputs": [],
   "source": [
    "import smtplib\n",
    "from email.mime.text import MIMEText\n",
    "from email.mime.base import MIMEBase\n",
    "from email.mime.multipart import MIMEMultipart\n",
    "from email import encoders"
   ]
  },
  {
   "cell_type": "code",
   "execution_count": null,
   "id": "f4a2490e",
   "metadata": {},
   "outputs": [],
   "source": [
    "title = '테스트 메일 입니다.'\n",
    "msg = '이곳에 본문을 입력해 주세요'"
   ]
  },
  {
   "cell_type": "code",
   "execution_count": null,
   "id": "563c2c30",
   "metadata": {},
   "outputs": [],
   "source": [
    "# body = f'''<!DOCTYPE html>\n",
    "# <html>\n",
    "# <head>\n",
    "# </head>\n",
    "# <body>\n",
    "# <p>안녕하세요?</p>\n",
    "# <p>반갑습니다. 이경록입니다.</p>\n",
    "# <p>&nbsp;</p>\n",
    "# <p>&nbsp;</p>\n",
    "# <p>{msg}</p>\n",
    "# <p>감사합니다. 좋은 하루 되세요!</p>\n",
    "# <p>이경록 드림</p>\n",
    "# <p>&nbsp;</p>\n",
    "# </body>\n",
    "# </html>'''"
   ]
  },
  {
   "cell_type": "code",
   "execution_count": null,
   "id": "72a15615",
   "metadata": {},
   "outputs": [],
   "source": [
    "body = '''\n",
    "안녕하세요? 반갑습니다.\n",
    "이경록입니다.\n",
    "\n",
    "감사합니다.\n",
    "즐거운 하루 되세요!\n",
    "'''"
   ]
  },
  {
   "cell_type": "code",
   "execution_count": null,
   "id": "6343fd0f",
   "metadata": {},
   "outputs": [],
   "source": [
    "import smtplib\n",
    "from email.mime.text import MIMEText\n",
    "from email.mime.multipart import MIMEMultipart\n",
    "from email.mime.base import MIMEBase\n",
    "from email import encoders\n",
    "\n",
    "gmail_user = 'gmail 계정'\n",
    "gmail_pw = '비밀번호'\n",
    "receiver_email = '받는 이메일 계정'\n",
    "\n",
    "# 세션생성, 로그인\n",
    "s = smtplib.SMTP('smtp.gmail.com', 587)\n",
    "s.starttls()\n",
    "s.login(gmail_user, gmail_pw)\n",
    "\n",
    "\n",
    "# 제목, 본문 작성\n",
    "msg = MIMEMultipart()\n",
    "msg['Subject'] = '제목입니다'\n",
    "# msg.attach(MIMEText(body, 'plain'))\n",
    "# msg.attach(MIMEText(body, 'html'))\n",
    "\n",
    "# open the file to be sent \n",
    "filename = \"분야별주요뉴스.xlsx\"\n",
    "  \n",
    "with open(filename, 'rb') as attachment:\n",
    "    part = MIMEBase('application', 'octet-stream')\n",
    "    part.set_payload(attachment.read())\n",
    "\n",
    "encoders.encode_base64(part)\n",
    "\n",
    "part.add_header(\n",
    "    'Content-Disposition', 'attachment', filename= f'{filename}'\n",
    ")\n",
    "\n",
    "msg.attach(part)\n",
    "\n",
    "s.sendmail(gmail_user, receiver_email, msg.as_string())\n",
    "s.quit()"
   ]
  }
 ],
 "metadata": {
  "kernelspec": {
   "display_name": "Python 3 (ipykernel)",
   "language": "python",
   "name": "python3"
  },
  "language_info": {
   "codemirror_mode": {
    "name": "ipython",
    "version": 3
   },
   "file_extension": ".py",
   "mimetype": "text/x-python",
   "name": "python",
   "nbconvert_exporter": "python",
   "pygments_lexer": "ipython3",
   "version": "3.8.12"
  }
 },
 "nbformat": 4,
 "nbformat_minor": 5
}
