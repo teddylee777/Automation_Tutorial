{
 "cells": [
  {
   "cell_type": "markdown",
   "id": "0f407abf",
   "metadata": {},
   "source": [
    "## PPT 불러오기"
   ]
  },
  {
   "cell_type": "code",
   "execution_count": 86,
   "id": "bda7c117",
   "metadata": {},
   "outputs": [],
   "source": [
    "from pptx import Presentation\n",
    "import copy"
   ]
  },
  {
   "cell_type": "code",
   "execution_count": 87,
   "id": "a39df5ac",
   "metadata": {},
   "outputs": [
    {
     "data": {
      "text/plain": [
       "<pptx.presentation.Presentation at 0x1f546a1ac40>"
      ]
     },
     "execution_count": 87,
     "metadata": {},
     "output_type": "execute_result"
    }
   ],
   "source": [
    "# 파워포인트를 로드합니다.\n",
    "ppt = Presentation('샘플명함.pptx')\n",
    "ppt"
   ]
  },
  {
   "cell_type": "code",
   "execution_count": 88,
   "id": "8d41795e",
   "metadata": {},
   "outputs": [
    {
     "data": {
      "text/plain": [
       "<pptx.slide.Slide at 0x1f546a1af40>"
      ]
     },
     "execution_count": 88,
     "metadata": {},
     "output_type": "execute_result"
    }
   ],
   "source": [
    "slide = ppt.slides[0]\n",
    "slide"
   ]
  },
  {
   "cell_type": "markdown",
   "id": "fdbbb82f",
   "metadata": {},
   "source": [
    "## Shape의 종류 확인"
   ]
  },
  {
   "cell_type": "code",
   "execution_count": 89,
   "id": "6f79d8b0",
   "metadata": {},
   "outputs": [],
   "source": [
    "# 개체를 지정합니다.\n",
    "shapes = slide.shapes"
   ]
  },
  {
   "cell_type": "code",
   "execution_count": 90,
   "id": "e9cefa0e",
   "metadata": {},
   "outputs": [
    {
     "name": "stdout",
     "output_type": "stream",
     "text": [
      "0 \n",
      "1 이름\n",
      "2 전화번호\n",
      "3 이메일\n",
      "4 호칭\n"
     ]
    }
   ],
   "source": [
    "# 개체들의 번호를 확인합니다.\n",
    "for idx, shape in enumerate(shapes):\n",
    "    print(idx, shape.text)"
   ]
  },
  {
   "cell_type": "code",
   "execution_count": 91,
   "id": "d124fe18",
   "metadata": {},
   "outputs": [],
   "source": [
    "# 개체의 텍스트 내용을 변경합니다\n",
    "shapes[1].text = '성함'"
   ]
  },
  {
   "cell_type": "code",
   "execution_count": 92,
   "id": "52c683d1",
   "metadata": {},
   "outputs": [],
   "source": [
    "# 저장합니다.\n",
    "ppt.save('샘플명함_수정.pptx')"
   ]
  },
  {
   "cell_type": "markdown",
   "id": "98db1342",
   "metadata": {},
   "source": [
    "## 슬라이드 복사"
   ]
  },
  {
   "cell_type": "code",
   "execution_count": 93,
   "id": "918cc8d5",
   "metadata": {},
   "outputs": [],
   "source": [
    "# ppt.slide_layouts[6]: 빈 페이지 레이아웃\n",
    "# 기존의 ppt 슬라이드에 추가\n",
    "new_slide = ppt.slides.add_slide(ppt.slide_layouts[6])"
   ]
  },
  {
   "cell_type": "code",
   "execution_count": 94,
   "id": "aa98b232",
   "metadata": {},
   "outputs": [],
   "source": [
    "for shape in shapes:\n",
    "    elem = shape.element\n",
    "    new_elem = copy.deepcopy(elem)\n",
    "    new_slide.shapes._spTree.insert_element_before(new_elem, 'p:extLst')"
   ]
  },
  {
   "cell_type": "code",
   "execution_count": 95,
   "id": "b6600b2f",
   "metadata": {},
   "outputs": [],
   "source": [
    "# 함수 형태로 만들어 줍니다.\n",
    "def duplicate_slide(ppt):\n",
    "    # ppt.slide_layouts[6]: 빈 페이지 레이아웃\n",
    "    # 기존의 ppt 슬라이드에 추가\n",
    "    new_slide = ppt.slides.add_slide(ppt.slide_layouts[6])\n",
    "    \n",
    "    for shape in shapes:\n",
    "        elem = shape.element\n",
    "        new_elem = copy.deepcopy(elem)\n",
    "        new_slide.shapes._spTree.insert_element_before(new_elem, 'p:extLst')\n",
    "    return ppt"
   ]
  },
  {
   "cell_type": "code",
   "execution_count": 96,
   "id": "807d86dd",
   "metadata": {},
   "outputs": [],
   "source": [
    "result = duplicate_slide(ppt)"
   ]
  },
  {
   "cell_type": "code",
   "execution_count": 97,
   "id": "44e0dfbe",
   "metadata": {},
   "outputs": [],
   "source": [
    "# 저장합니다.\n",
    "result.save('샘플명함_수정2.pptx')"
   ]
  },
  {
   "cell_type": "markdown",
   "id": "5f6cf592",
   "metadata": {},
   "source": [
    "## 가장 마지막 슬라이드 가져오기"
   ]
  },
  {
   "cell_type": "code",
   "execution_count": 59,
   "id": "81a2899a",
   "metadata": {},
   "outputs": [
    {
     "data": {
      "text/plain": [
       "<pptx.slide.Slide at 0x1f542c4f8e0>"
      ]
     },
     "execution_count": 59,
     "metadata": {},
     "output_type": "execute_result"
    }
   ],
   "source": [
    "# -1 인덱스로 가장 최근에 추가한 슬라이드 가져오기\n",
    "last_slide = ppt.slides[-1]\n",
    "last_slide"
   ]
  },
  {
   "cell_type": "markdown",
   "id": "b4c43f19",
   "metadata": {},
   "source": [
    "## 엑셀 데이터를 파워포인트에 적용하기"
   ]
  },
  {
   "cell_type": "code",
   "execution_count": 60,
   "id": "82eaf4ef",
   "metadata": {},
   "outputs": [],
   "source": [
    "import pandas as pd"
   ]
  },
  {
   "cell_type": "code",
   "execution_count": 61,
   "id": "5d99ffb8",
   "metadata": {},
   "outputs": [],
   "source": [
    "# 파일 불러오기\n",
    "data = pd.read_excel('이름샘플.xlsx')"
   ]
  },
  {
   "cell_type": "code",
   "execution_count": 63,
   "id": "c3c5a7a6",
   "metadata": {},
   "outputs": [
    {
     "data": {
      "text/html": [
       "<div>\n",
       "<style scoped>\n",
       "    .dataframe tbody tr th:only-of-type {\n",
       "        vertical-align: middle;\n",
       "    }\n",
       "\n",
       "    .dataframe tbody tr th {\n",
       "        vertical-align: top;\n",
       "    }\n",
       "\n",
       "    .dataframe thead th {\n",
       "        text-align: right;\n",
       "    }\n",
       "</style>\n",
       "<table border=\"1\" class=\"dataframe\">\n",
       "  <thead>\n",
       "    <tr style=\"text-align: right;\">\n",
       "      <th></th>\n",
       "      <th>이름</th>\n",
       "      <th>나이</th>\n",
       "      <th>이메일</th>\n",
       "      <th>호칭</th>\n",
       "      <th>연락처</th>\n",
       "    </tr>\n",
       "  </thead>\n",
       "  <tbody>\n",
       "    <tr>\n",
       "      <th>0</th>\n",
       "      <td>홍길동</td>\n",
       "      <td>27</td>\n",
       "      <td>hello@gmail.com</td>\n",
       "      <td>사원</td>\n",
       "      <td>010-1234-5678</td>\n",
       "    </tr>\n",
       "    <tr>\n",
       "      <th>1</th>\n",
       "      <td>김철수</td>\n",
       "      <td>29</td>\n",
       "      <td>chulsoo@naver.com</td>\n",
       "      <td>대리</td>\n",
       "      <td>010-1111-2222</td>\n",
       "    </tr>\n",
       "    <tr>\n",
       "      <th>2</th>\n",
       "      <td>박새로이</td>\n",
       "      <td>32</td>\n",
       "      <td>park@yahoo.co.kr</td>\n",
       "      <td>과장</td>\n",
       "      <td>010-2000-3000</td>\n",
       "    </tr>\n",
       "    <tr>\n",
       "      <th>3</th>\n",
       "      <td>이도윤</td>\n",
       "      <td>41</td>\n",
       "      <td>lee@daum.net</td>\n",
       "      <td>차장</td>\n",
       "      <td>010-3030-4040</td>\n",
       "    </tr>\n",
       "    <tr>\n",
       "      <th>4</th>\n",
       "      <td>서은우</td>\n",
       "      <td>50</td>\n",
       "      <td>seo@naver.com</td>\n",
       "      <td>부장</td>\n",
       "      <td>010-5566-7788</td>\n",
       "    </tr>\n",
       "  </tbody>\n",
       "</table>\n",
       "</div>"
      ],
      "text/plain": [
       "     이름  나이                이메일  호칭            연락처\n",
       "0   홍길동  27    hello@gmail.com  사원  010-1234-5678\n",
       "1   김철수  29  chulsoo@naver.com  대리  010-1111-2222\n",
       "2  박새로이  32   park@yahoo.co.kr  과장  010-2000-3000\n",
       "3   이도윤  41       lee@daum.net  차장  010-3030-4040\n",
       "4   서은우  50      seo@naver.com  부장  010-5566-7788"
      ]
     },
     "execution_count": 63,
     "metadata": {},
     "output_type": "execute_result"
    }
   ],
   "source": [
    "data"
   ]
  },
  {
   "cell_type": "code",
   "execution_count": 69,
   "id": "ba322eb8",
   "metadata": {},
   "outputs": [
    {
     "data": {
      "text/plain": [
       "(0,\n",
       " 이름                 홍길동\n",
       " 나이                  27\n",
       " 이메일    hello@gmail.com\n",
       " 호칭                  사원\n",
       " 연락처      010-1234-5678\n",
       " Name: 0, dtype: object)"
      ]
     },
     "execution_count": 69,
     "metadata": {},
     "output_type": "execute_result"
    }
   ],
   "source": [
    "list(data.iterrows())[0]"
   ]
  },
  {
   "cell_type": "code",
   "execution_count": 70,
   "id": "f69841cb",
   "metadata": {},
   "outputs": [
    {
     "name": "stdout",
     "output_type": "stream",
     "text": [
      "0 \n",
      "1 성함\n",
      "2 전화번호\n",
      "3 이메일\n",
      "4 호칭\n"
     ]
    }
   ],
   "source": [
    "# 개체들의 번호를 확인합니다.\n",
    "for idx, shape in enumerate(shapes):\n",
    "    print(idx, shape.text)"
   ]
  },
  {
   "cell_type": "code",
   "execution_count": 74,
   "id": "82ad0347",
   "metadata": {},
   "outputs": [
    {
     "name": "stdout",
     "output_type": "stream",
     "text": [
      "홍길동 010-1234-5678 hello@gmail.com 사원\n",
      "김철수 010-1111-2222 chulsoo@naver.com 대리\n",
      "박새로이 010-2000-3000 park@yahoo.co.kr 과장\n",
      "이도윤 010-3030-4040 lee@daum.net 차장\n",
      "서은우 010-5566-7788 seo@naver.com 부장\n"
     ]
    }
   ],
   "source": [
    "# 각 행별 데이터 조회 확인\n",
    "for (idx, row) in data.iterrows():\n",
    "    print(row['이름'], row['연락처'], row['이메일'], row['호칭'])"
   ]
  },
  {
   "cell_type": "markdown",
   "id": "b8a264df",
   "metadata": {},
   "source": [
    "## 모든 과정을 연결"
   ]
  },
  {
   "cell_type": "code",
   "execution_count": 99,
   "id": "09f9cbb7",
   "metadata": {},
   "outputs": [
    {
     "name": "stdout",
     "output_type": "stream",
     "text": [
      "0 \n",
      "1 이름\n",
      "2 전화번호\n",
      "3 이메일\n",
      "4 호칭\n"
     ]
    }
   ],
   "source": [
    "# 파워포인트를 로드합니다.\n",
    "ppt = Presentation('샘플명함.pptx')\n",
    "\n",
    "# 슬라이드 1개 지정\n",
    "slide = ppt.slides[0]\n",
    "\n",
    "# shape\n",
    "shapes = slide.shapes\n",
    "\n",
    "# 개체들의 번호를 확인합니다.\n",
    "for idx, shape in enumerate(shapes):\n",
    "    print(idx, shape.text)"
   ]
  },
  {
   "cell_type": "code",
   "execution_count": 100,
   "id": "9ad5b6ff",
   "metadata": {},
   "outputs": [
    {
     "name": "stdout",
     "output_type": "stream",
     "text": [
      "홍길동 010-1234-5678 hello@gmail.com 사원\n",
      "김철수 010-1111-2222 chulsoo@naver.com 대리\n",
      "박새로이 010-2000-3000 park@yahoo.co.kr 과장\n",
      "이도윤 010-3030-4040 lee@daum.net 차장\n",
      "서은우 010-5566-7788 seo@naver.com 부장\n"
     ]
    }
   ],
   "source": [
    "# 각 행 별 데이터를 순회\n",
    "for (idx, row) in data.iterrows():\n",
    "    # 슬라이드 복제\n",
    "    ppt = duplicate_slide(ppt)\n",
    "    \n",
    "    # -1 인덱스로 가장 최근에 추가한 슬라이드 가져오기\n",
    "    last_slide = ppt.slides[-1]\n",
    "    \n",
    "    # TEXT 변경\n",
    "    last_slide.shapes[1].text = row['이름']\n",
    "    last_slide.shapes[2].text = row['연락처']\n",
    "    last_slide.shapes[3].text = row['이메일']\n",
    "    last_slide.shapes[4].text = row['호칭']\n",
    "    \n",
    "    print(row['이름'], row['연락처'], row['이메일'], row['호칭'])\n",
    "    \n",
    "# 저장합니다.\n",
    "ppt.save('샘플명함_수정3.pptx')"
   ]
  }
 ],
 "metadata": {
  "kernelspec": {
   "display_name": "Python 3 (ipykernel)",
   "language": "python",
   "name": "python3"
  },
  "language_info": {
   "codemirror_mode": {
    "name": "ipython",
    "version": 3
   },
   "file_extension": ".py",
   "mimetype": "text/x-python",
   "name": "python",
   "nbconvert_exporter": "python",
   "pygments_lexer": "ipython3",
   "version": "3.8.12"
  }
 },
 "nbformat": 4,
 "nbformat_minor": 5
}
