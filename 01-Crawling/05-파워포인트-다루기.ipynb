{
 "cells": [
  {
   "cell_type": "markdown",
   "id": "99fac01c",
   "metadata": {},
   "source": [
    "## PPT 불러오기"
   ]
  },
  {
   "cell_type": "code",
   "execution_count": 4,
   "id": "e6f953fd",
   "metadata": {},
   "outputs": [],
   "source": [
    "from pptx import Presentation\n",
    "import copy\n",
    "import os\n",
    "import pptx"
   ]
  },
  {
   "cell_type": "code",
   "execution_count": null,
   "id": "4f0d701e",
   "metadata": {},
   "outputs": [],
   "source": [
    "# 파워포인트를 로드합니다.\n",
    "ppt = Presentation('샘플명함.pptx')\n",
    "ppt"
   ]
  },
  {
   "cell_type": "code",
   "execution_count": null,
   "id": "74412c3f",
   "metadata": {},
   "outputs": [],
   "source": [
    "slide = ppt.slides[0]\n",
    "slide"
   ]
  },
  {
   "cell_type": "markdown",
   "id": "0f26b536",
   "metadata": {},
   "source": [
    "## Shape의 종류 확인"
   ]
  },
  {
   "cell_type": "code",
   "execution_count": null,
   "id": "11b25a2d",
   "metadata": {},
   "outputs": [],
   "source": [
    "# 개체를 지정합니다.\n",
    "shapes = slide.shapes"
   ]
  },
  {
   "cell_type": "code",
   "execution_count": null,
   "id": "2180cb18",
   "metadata": {},
   "outputs": [],
   "source": [
    "# 개체들의 번호를 확인합니다.\n",
    "for idx, shape in enumerate(shapes):\n",
    "    print(idx, shape.text)"
   ]
  },
  {
   "cell_type": "code",
   "execution_count": null,
   "id": "5b7ab5e9",
   "metadata": {},
   "outputs": [],
   "source": [
    "# 개체의 텍스트 내용을 변경합니다\n",
    "shapes[1].text = '성함'"
   ]
  },
  {
   "cell_type": "code",
   "execution_count": null,
   "id": "f8123885",
   "metadata": {},
   "outputs": [],
   "source": [
    "# 저장합니다.\n",
    "ppt.save('샘플명함_수정.pptx')"
   ]
  },
  {
   "cell_type": "markdown",
   "id": "638232a6",
   "metadata": {},
   "source": [
    "## 슬라이드 복사"
   ]
  },
  {
   "cell_type": "code",
   "execution_count": null,
   "id": "a86ee9a0",
   "metadata": {},
   "outputs": [],
   "source": [
    "# ppt.slide_layouts[6]: 빈 페이지 레이아웃\n",
    "# 기존의 ppt 슬라이드에 추가\n",
    "new_slide = ppt.slides.add_slide(ppt.slide_layouts[6])"
   ]
  },
  {
   "cell_type": "code",
   "execution_count": null,
   "id": "676e5929",
   "metadata": {},
   "outputs": [],
   "source": [
    "shapes = new_slide.shapes\n",
    "\n",
    "for shape in shapes:\n",
    "    elem = shape.element\n",
    "    new_elem = copy.deepcopy(elem)\n",
    "    new_slide.shapes._spTree.insert_element_before(new_elem, 'p:extLst')"
   ]
  },
  {
   "cell_type": "code",
   "execution_count": 37,
   "id": "c5309c48",
   "metadata": {},
   "outputs": [],
   "source": [
    "# 함수 형태로 만들어 줍니다.\n",
    "def duplicate_slide(ppt):\n",
    "    shapes = list(ppt.slides)[0].shapes\n",
    "    # ppt.slide_layouts[6]: 빈 페이지 레이아웃\n",
    "    # 기존의 ppt 슬라이드에 추가\n",
    "    new_slide = ppt.slides.add_slide(ppt.slide_layouts[6])\n",
    "    \n",
    "    for shape in shapes:\n",
    "        elem = shape.element\n",
    "        new_elem = copy.deepcopy(elem)\n",
    "        new_slide.shapes._spTree.insert_element_before(new_elem, 'p:extLst')\n",
    "    return ppt"
   ]
  },
  {
   "cell_type": "code",
   "execution_count": null,
   "id": "2ee67184",
   "metadata": {},
   "outputs": [],
   "source": [
    "result = duplicate_slide(ppt)"
   ]
  },
  {
   "cell_type": "code",
   "execution_count": null,
   "id": "2076a09a",
   "metadata": {},
   "outputs": [],
   "source": [
    "# 저장합니다.\n",
    "result.save('샘플명함_수정2.pptx')"
   ]
  },
  {
   "cell_type": "code",
   "execution_count": 36,
   "id": "fae02dc2",
   "metadata": {},
   "outputs": [
    {
     "data": {
      "text/plain": [
       "[<pptx.shapes.autoshape.Shape at 0x270b4f37a60>,\n",
       " <pptx.shapes.autoshape.Shape at 0x270b4f37df0>,\n",
       " <pptx.shapes.autoshape.Shape at 0x27083b8ef40>,\n",
       " <pptx.shapes.autoshape.Shape at 0x270b5fec8b0>,\n",
       " <pptx.shapes.autoshape.Shape at 0x270b602f850>,\n",
       " <pptx.shapes.autoshape.Shape at 0x270b6025670>,\n",
       " <pptx.shapes.autoshape.Shape at 0x270b6025760>,\n",
       " <pptx.shapes.autoshape.Shape at 0x270b6025df0>,\n",
       " <pptx.shapes.picture.Picture at 0x270b6025dc0>,\n",
       " <pptx.shapes.picture.Picture at 0x270b6025ac0>,\n",
       " <pptx.shapes.picture.Picture at 0x270b60257c0>,\n",
       " <pptx.shapes.picture.Picture at 0x270b6025be0>,\n",
       " <pptx.shapes.picture.Picture at 0x270b6025d30>,\n",
       " <pptx.shapes.picture.Picture at 0x270b60258e0>]"
      ]
     },
     "execution_count": 36,
     "metadata": {},
     "output_type": "execute_result"
    }
   ],
   "source": [
    "list(list(ppt.slides)[0].shapes)"
   ]
  },
  {
   "cell_type": "markdown",
   "id": "92e981c3",
   "metadata": {},
   "source": [
    "## 가장 마지막 슬라이드 가져오기"
   ]
  },
  {
   "cell_type": "code",
   "execution_count": null,
   "id": "0a1409bb",
   "metadata": {},
   "outputs": [],
   "source": [
    "# -1 인덱스로 가장 최근에 추가한 슬라이드 가져오기\n",
    "last_slide = ppt.slides[-1]\n",
    "last_slide"
   ]
  },
  {
   "cell_type": "markdown",
   "id": "7498f0de",
   "metadata": {},
   "source": [
    "## 엑셀 데이터를 파워포인트에 적용하기"
   ]
  },
  {
   "cell_type": "code",
   "execution_count": 8,
   "id": "67b15da3",
   "metadata": {},
   "outputs": [],
   "source": [
    "import pandas as pd"
   ]
  },
  {
   "cell_type": "code",
   "execution_count": 9,
   "id": "3064b6e5",
   "metadata": {},
   "outputs": [],
   "source": [
    "# 파일 불러오기\n",
    "data = pd.read_excel('이름샘플.xlsx')"
   ]
  },
  {
   "cell_type": "code",
   "execution_count": 10,
   "id": "e91171a7",
   "metadata": {},
   "outputs": [
    {
     "data": {
      "text/html": [
       "<div>\n",
       "<style scoped>\n",
       "    .dataframe tbody tr th:only-of-type {\n",
       "        vertical-align: middle;\n",
       "    }\n",
       "\n",
       "    .dataframe tbody tr th {\n",
       "        vertical-align: top;\n",
       "    }\n",
       "\n",
       "    .dataframe thead th {\n",
       "        text-align: right;\n",
       "    }\n",
       "</style>\n",
       "<table border=\"1\" class=\"dataframe\">\n",
       "  <thead>\n",
       "    <tr style=\"text-align: right;\">\n",
       "      <th></th>\n",
       "      <th>이름</th>\n",
       "      <th>나이</th>\n",
       "      <th>이메일</th>\n",
       "      <th>호칭</th>\n",
       "      <th>연락처</th>\n",
       "    </tr>\n",
       "  </thead>\n",
       "  <tbody>\n",
       "    <tr>\n",
       "      <th>0</th>\n",
       "      <td>홍길동</td>\n",
       "      <td>27</td>\n",
       "      <td>hello@gmail.com</td>\n",
       "      <td>사원</td>\n",
       "      <td>010-1234-5678</td>\n",
       "    </tr>\n",
       "    <tr>\n",
       "      <th>1</th>\n",
       "      <td>김철수</td>\n",
       "      <td>29</td>\n",
       "      <td>chulsoo@naver.com</td>\n",
       "      <td>대리</td>\n",
       "      <td>010-1111-2222</td>\n",
       "    </tr>\n",
       "    <tr>\n",
       "      <th>2</th>\n",
       "      <td>박새로이</td>\n",
       "      <td>32</td>\n",
       "      <td>park@yahoo.co.kr</td>\n",
       "      <td>과장</td>\n",
       "      <td>010-2000-3000</td>\n",
       "    </tr>\n",
       "    <tr>\n",
       "      <th>3</th>\n",
       "      <td>이도윤</td>\n",
       "      <td>41</td>\n",
       "      <td>lee@daum.net</td>\n",
       "      <td>차장</td>\n",
       "      <td>010-3030-4040</td>\n",
       "    </tr>\n",
       "    <tr>\n",
       "      <th>4</th>\n",
       "      <td>서은우</td>\n",
       "      <td>50</td>\n",
       "      <td>seo@naver.com</td>\n",
       "      <td>부장</td>\n",
       "      <td>010-5566-7788</td>\n",
       "    </tr>\n",
       "  </tbody>\n",
       "</table>\n",
       "</div>"
      ],
      "text/plain": [
       "     이름  나이                이메일  호칭            연락처\n",
       "0   홍길동  27    hello@gmail.com  사원  010-1234-5678\n",
       "1   김철수  29  chulsoo@naver.com  대리  010-1111-2222\n",
       "2  박새로이  32   park@yahoo.co.kr  과장  010-2000-3000\n",
       "3   이도윤  41       lee@daum.net  차장  010-3030-4040\n",
       "4   서은우  50      seo@naver.com  부장  010-5566-7788"
      ]
     },
     "execution_count": 10,
     "metadata": {},
     "output_type": "execute_result"
    }
   ],
   "source": [
    "data"
   ]
  },
  {
   "cell_type": "code",
   "execution_count": null,
   "id": "fc3c8e76",
   "metadata": {},
   "outputs": [],
   "source": [
    "list(data.iterrows())[0]"
   ]
  },
  {
   "cell_type": "code",
   "execution_count": null,
   "id": "8d7ab9f1",
   "metadata": {},
   "outputs": [],
   "source": [
    "# 개체들의 번호를 확인합니다.\n",
    "for idx, shape in enumerate(shapes):\n",
    "    print(idx, shape.text)"
   ]
  },
  {
   "cell_type": "code",
   "execution_count": null,
   "id": "fcaf9eb1",
   "metadata": {},
   "outputs": [],
   "source": [
    "# 각 행별 데이터 조회 확인\n",
    "for (idx, row) in data.iterrows():\n",
    "    print(row['이름'], row['연락처'], row['이메일'], row['호칭'])"
   ]
  },
  {
   "cell_type": "markdown",
   "id": "53252c6c",
   "metadata": {},
   "source": [
    "## 모든 과정을 연결"
   ]
  },
  {
   "cell_type": "code",
   "execution_count": null,
   "id": "fff6426d",
   "metadata": {},
   "outputs": [],
   "source": [
    "# 파워포인트를 로드합니다.\n",
    "ppt = Presentation('샘플명함.pptx')\n",
    "\n",
    "# 슬라이드 1개 지정\n",
    "slide = ppt.slides[0]\n",
    "\n",
    "# shape\n",
    "shapes = slide.shapes\n",
    "\n",
    "# 개체들의 번호를 확인합니다.\n",
    "for idx, shape in enumerate(shapes):\n",
    "    print(idx, shape.text)"
   ]
  },
  {
   "cell_type": "code",
   "execution_count": null,
   "id": "d56f7fb2",
   "metadata": {},
   "outputs": [],
   "source": [
    "# 각 행 별 데이터를 순회\n",
    "for (idx, row) in data.iterrows():\n",
    "    # 슬라이드 복제\n",
    "    ppt = duplicate_slide(ppt)\n",
    "    \n",
    "    # -1 인덱스로 가장 최근에 추가한 슬라이드 가져오기\n",
    "    last_slide = ppt.slides[-1]\n",
    "    \n",
    "    # TEXT 변경\n",
    "    last_slide.shapes[1].text = row['이름']\n",
    "    last_slide.shapes[2].text = row['연락처']\n",
    "    last_slide.shapes[3].text = row['이메일']\n",
    "    last_slide.shapes[4].text = row['호칭']\n",
    "    \n",
    "    print(row['이름'], row['연락처'], row['이메일'], row['호칭'])\n",
    "    \n",
    "# 저장합니다.\n",
    "ppt.save('샘플명함_수정3.pptx')"
   ]
  },
  {
   "cell_type": "markdown",
   "id": "87df2efc",
   "metadata": {},
   "source": [
    "## 명함 템플릿 가져오기"
   ]
  },
  {
   "cell_type": "code",
   "execution_count": 77,
   "id": "247bf3f6",
   "metadata": {},
   "outputs": [
    {
     "name": "stdout",
     "output_type": "stream",
     "text": [
      "0 031 - 123 - 4567 <pptx.text.text.TextFrame object at 0x00000270B91E2820>\n",
      "1 경기도 성남시 분당구 삼평동 판교역로 160 <pptx.text.text.TextFrame object at 0x00000270B8665B20>\n",
      "2 email@naver.com <pptx.text.text.TextFrame object at 0x00000270B8611220>\n",
      "3 https://www.youtube.com/c/teddynote <pptx.text.text.TextFrame object at 0x00000270B8665B20>\n",
      "4 ㈜ 테디노트\n",
      "“여러분의 자동화를 응원합니다＂ <pptx.text.text.TextFrame object at 0x00000270B8611220>\n",
      "5 이 테 디 <pptx.text.text.TextFrame object at 0x00000270B8665B20>\n",
      "6 대표이사 <pptx.text.text.TextFrame object at 0x00000270B8611220>\n",
      "13 010-1234-5678 <pptx.text.text.TextFrame object at 0x00000270B8665B20>\n"
     ]
    }
   ],
   "source": [
    "# 파워포인트를 로드합니다.\n",
    "ppt = Presentation('명함템플릿.pptx')\n",
    "\n",
    "# 슬라이드 1개 지정\n",
    "slide = ppt.slides[0]\n",
    "\n",
    "# shape\n",
    "shapes = slide.shapes\n",
    "\n",
    "# 개체들의 번호를 확인합니다.\n",
    "for idx, shape in enumerate(shapes):\n",
    "    # 사진 개체가 아니라 TEXT 개체만 출력\n",
    "    if isinstance(shape, pptx.shapes.autoshape.Shape):\n",
    "        print(idx, shape.text, shape.text_frame)"
   ]
  },
  {
   "cell_type": "code",
   "execution_count": 71,
   "id": "9b621315",
   "metadata": {},
   "outputs": [
    {
     "name": "stdout",
     "output_type": "stream",
     "text": [
      "홍길동 010-1234-5678 hello@gmail.com 사원\n",
      "김철수 010-1111-2222 chulsoo@naver.com 대리\n",
      "박새로이 010-2000-3000 park@yahoo.co.kr 과장\n",
      "이도윤 010-3030-4040 lee@daum.net 차장\n",
      "서은우 010-5566-7788 seo@naver.com 부장\n"
     ]
    }
   ],
   "source": [
    "# 각 행 별 데이터를 순회\n",
    "for (idx, row) in data.iterrows():\n",
    "    # 슬라이드 복제\n",
    "    ppt = duplicate_slide(ppt)\n",
    "    \n",
    "    # -1 인덱스로 가장 최근에 추가한 슬라이드 가져오기\n",
    "    last_slide = ppt.slides[-1]\n",
    "    \n",
    "    \n",
    "    # TEXT 변경\n",
    "    last_slide.shapes[0].text = row['연락처']\n",
    "    last_slide.shapes[3].text = row['이메일']\n",
    "    last_slide.shapes[6].text = row['이름']\n",
    "    last_slide.shapes[7].text = row['호칭']\n",
    "    \n",
    "    print(row['이름'], row['연락처'], row['이메일'], row['호칭'])\n",
    "    \n",
    "# 저장합니다.\n",
    "ppt.save('명함템플릿2_수정.pptx')"
   ]
  },
  {
   "cell_type": "markdown",
   "id": "77b4cfa8",
   "metadata": {},
   "source": [
    "## 이미지 복제 문제 해결 / 텍스트 폰트 스타일 복사"
   ]
  },
  {
   "cell_type": "code",
   "execution_count": 253,
   "id": "732d0254",
   "metadata": {},
   "outputs": [],
   "source": [
    "# 함수 형태로 만들어 줍니다.\n",
    "def duplicate_slide_with_image(ppt):\n",
    "    shapes = list(ppt.slides)[0].shapes\n",
    "    # ppt.slide_layouts[6]: 빈 페이지 레이아웃\n",
    "    # 기존의 ppt 슬라이드에 추가\n",
    "    new_slide = ppt.slides.add_slide(ppt.slide_layouts[6])\n",
    "    \n",
    "    # Image Dict 생성\n",
    "    imgDict = {}\n",
    "    \n",
    "    for shape in shapes:\n",
    "        # 이미지 개체 복사 코드\n",
    "        if isinstance(shape, pptx.shapes.picture.Picture):\n",
    "            # 이미지 저장\n",
    "            with open(shape.name+'.png', 'wb') as f:\n",
    "                f.write(shape.image.blob)\n",
    "\n",
    "            # 이미지를 dict에 추가\n",
    "            imgDict[shape.name+'.png'] = [shape.left, shape.top, shape.width, shape.height]\n",
    "            \n",
    "        elif shape.has_text_frame:\n",
    "            \n",
    "            elem = shape.element\n",
    "            new_elem = copy.deepcopy(elem)\n",
    "                \n",
    "            new_slide.shapes._spTree.insert_element_before(new_elem, 'p:extLst')\n",
    "            \n",
    "            # font명, font size 복사\n",
    "            font_name = shape.text_frame.paragraphs[0].runs[0].font.name\n",
    "            font_size = shape.text_frame.paragraphs[0].runs[0].font.size\n",
    "            \n",
    "            new_shape = new_slide.shapes[-1]\n",
    "            \n",
    "            \n",
    "            \n",
    "        else:\n",
    "            elem = shape.element\n",
    "            new_elem = copy.deepcopy(elem)\n",
    "            new_slide.shapes._spTree.insert_element_before(new_elem, 'p:extLst')\n",
    "    \n",
    "\n",
    "    # 이미지 추가\n",
    "    for k, v in imgDict.items():\n",
    "        new_slide.shapes.add_picture(k, v[0], v[1], v[2], v[3])\n",
    "        os.remove(k)\n",
    "        \n",
    "    return ppt"
   ]
  },
  {
   "cell_type": "code",
   "execution_count": 288,
   "id": "bf40295a",
   "metadata": {},
   "outputs": [
    {
     "name": "stdout",
     "output_type": "stream",
     "text": [
      "0 031 - 123 - 4567 나눔스퀘어 Bold\n",
      "1 경기도 성남시 분당구 삼평동 판교역로 160 나눔스퀘어 Bold\n",
      "2 email@naver.com 나눔스퀘어 Bold\n",
      "3 https://www.youtube.com/c/teddynote 나눔스퀘어 Bold\n",
      "4 ㈜ 테디노트\n",
      "“여러분의 자동화를 응원합니다＂ 나눔스퀘어 Bold\n",
      "11 010-1234-5678 나눔스퀘어 Bold\n",
      "12 대표이사 나눔바른고딕\n",
      "13 이 테 디 나눔스퀘어 ExtraBold\n"
     ]
    }
   ],
   "source": [
    "# 파워포인트를 로드합니다.\n",
    "ppt = Presentation('명함템플릿.pptx')\n",
    "\n",
    "# # 슬라이드 1개 지정\n",
    "# slide = ppt.slides[0]\n",
    "\n",
    "# # shape\n",
    "# shapes = slide.shapes\n",
    "\n",
    "# # 개체들의 번호를 확인합니다.\n",
    "# for idx, shape in enumerate(shapes):\n",
    "#     # 사진 개체가 아니라 TEXT 개체만 출력\n",
    "#     if isinstance(shape, pptx.shapes.autoshape.Shape):\n",
    "#         print(idx, shape.text_frame.text, shape.text_frame.paragraphs[0].runs[0].font.name)"
   ]
  },
  {
   "cell_type": "code",
   "execution_count": 297,
   "id": "240c6150",
   "metadata": {},
   "outputs": [
    {
     "name": "stdout",
     "output_type": "stream",
     "text": [
      "0\n",
      "031 - 123 - 4567\n",
      "나눔스퀘어 Bold\n",
      "304800\n",
      "TEXT_1 (13)\n",
      "==================================================\n",
      "1\n",
      "경기도 성남시 분당구 삼평동 판교역로 160\n",
      "나눔스퀘어 Bold\n",
      "304800\n",
      "TEXT_1 (13)\n",
      "==================================================\n",
      "2\n",
      "email@naver.com\n",
      "나눔스퀘어 Bold\n",
      "304800\n",
      "TEXT_1 (13)\n",
      "==================================================\n",
      "3\n",
      "https://www.youtube.com/c/teddynote\n",
      "나눔스퀘어 Bold\n",
      "304800\n",
      "TEXT_1 (13)\n",
      "==================================================\n",
      "4\n",
      "㈜ 테디노트\n",
      "“여러분의 자동화를 응원합니다＂\n",
      "나눔스퀘어 Bold\n",
      "304800\n",
      "ACCENT_2 (6)\n",
      "==================================================\n",
      "5\n",
      "010-1234-5678\n",
      "나눔스퀘어 Bold\n",
      "304800\n",
      "TEXT_1 (13)\n",
      "==================================================\n",
      "6\n",
      "대표이사\n",
      "나눔바른고딕\n",
      "None\n",
      "TEXT_1 (13)\n",
      "==================================================\n",
      "7\n",
      "이 테 디\n",
      "나눔스퀘어 ExtraBold\n",
      "469900\n",
      "TEXT_1 (13)\n",
      "==================================================\n"
     ]
    }
   ],
   "source": [
    "ppt = Presentation('명함템플릿.pptx')\n",
    "\n",
    "ppt = duplicate_slide_with_image(ppt)\n",
    "\n",
    "copied_slide = ppt.slides[-1]\n",
    "\n",
    "font_names = dict()\n",
    "font_sizes = dict()\n",
    "font_colors = dict()\n",
    "\n",
    "# 개체들의 번호를 확인합니다.\n",
    "for idx, shape in enumerate(copied_slide.shapes):\n",
    "    # 사진 개체가 아니라 TEXT 개체만 출력\n",
    "    if isinstance(shape, pptx.shapes.autoshape.Shape):\n",
    "        print(idx)\n",
    "        print(shape.text)\n",
    "        print(shape.text_frame.paragraphs[0].runs[0].font.name)\n",
    "        print(shape.text_frame.paragraphs[0].runs[0].font.size)\n",
    "        font_names[idx] = shape.text_frame.paragraphs[0].runs[0].font.name\n",
    "        font_sizes[idx] = shape.text_frame.paragraphs[0].runs[0].font.size\n",
    "        \n",
    "        if shape.text_frame.paragraphs[0].runs[0].font.color.type is not None:\n",
    "            print(shape.text_frame.paragraphs[0].runs[0].font.color.theme_color)\n",
    "            font_colors[idx] = shape.text_frame.paragraphs[0].runs[0].font.color.theme_color\n",
    "\n",
    "        print('====='*10)"
   ]
  },
  {
   "cell_type": "code",
   "execution_count": null,
   "id": "71fe107a",
   "metadata": {},
   "outputs": [],
   "source": [
    "# 텍스트 형식 복사\n",
    "def copy_text(shape, idx, text):\n",
    "    global font_names, font_sizes, font_colors\n",
    "    shape[idx].text_frame.text = text\n",
    "    shape[idx].text_frame.paragraphs[0].font.name = font_names[idx]\n",
    "    shape[idx].text_frame.paragraphs[0].font.size = font_sizes[idx]\n",
    "    shape[idx].text_frame.paragraphs[0].font.color.theme_color = font_colors[idx]"
   ]
  },
  {
   "cell_type": "code",
   "execution_count": 286,
   "id": "d11ea24d",
   "metadata": {},
   "outputs": [
    {
     "name": "stdout",
     "output_type": "stream",
     "text": [
      "홍길동 010-1234-5678 hello@gmail.com 사원\n",
      "김철수 010-1111-2222 chulsoo@naver.com 대리\n",
      "박새로이 010-2000-3000 park@yahoo.co.kr 과장\n",
      "이도윤 010-3030-4040 lee@daum.net 차장\n",
      "서은우 010-5566-7788 seo@naver.com 부장\n"
     ]
    }
   ],
   "source": [
    "# 각 행 별 데이터를 순회\n",
    "for (idx, row) in data.iterrows():\n",
    "    # 슬라이드 복제\n",
    "    ppt = duplicate_slide_with_image(ppt)\n",
    "    \n",
    "    # -1 인덱스로 가장 최근에 추가한 슬라이드 가져오기\n",
    "    last_slide = ppt.slides[-1]\n",
    "    \n",
    "    # TEXT 변경        \n",
    "    copy_text(last_slide.shapes, 2, row['이메일'])\n",
    "    copy_text(last_slide.shapes, 5, row['연락처'])\n",
    "    copy_text(last_slide.shapes, 6, row['호칭'])\n",
    "    copy_text(last_slide.shapes, 7, row['이름'])\n",
    "    \n",
    "    print(row['이름'], row['연락처'], row['이메일'], row['호칭'])\n",
    "\n",
    "# 샘플로 생성한 슬라이드를 제거합니다.\n",
    "xml_slides = ppt.slides._sldIdLst  \n",
    "slides = list(xml_slides)\n",
    "xml_slides.remove(slides[1])\n",
    "\n",
    "# 저장합니다.\n",
    "ppt.save('명함템플릿_수정2.pptx')"
   ]
  },
  {
   "cell_type": "markdown",
   "id": "eb3f90f5",
   "metadata": {},
   "source": [
    "## 이름 사이에 공백 추가"
   ]
  },
  {
   "cell_type": "code",
   "execution_count": 287,
   "id": "a248ecc5",
   "metadata": {},
   "outputs": [
    {
     "data": {
      "text/plain": [
       "'홍 길 동'"
      ]
     },
     "execution_count": 287,
     "metadata": {},
     "output_type": "execute_result"
    }
   ],
   "source": [
    "name = '홍길동'\n",
    "' '.join(name)"
   ]
  },
  {
   "cell_type": "code",
   "execution_count": 319,
   "id": "a017c424",
   "metadata": {},
   "outputs": [],
   "source": [
    "# 파워포인트를 로드합니다.\n",
    "ppt = Presentation('명함템플릿.pptx')"
   ]
  },
  {
   "cell_type": "code",
   "execution_count": 321,
   "id": "da57cf02",
   "metadata": {},
   "outputs": [
    {
     "data": {
      "text/plain": [
       "<bound method Slides.index of <pptx.slide.Slides object at 0x00000270BD1B4340>>"
      ]
     },
     "execution_count": 321,
     "metadata": {},
     "output_type": "execute_result"
    }
   ],
   "source": [
    "ppt.slides.index"
   ]
  },
  {
   "cell_type": "code",
   "execution_count": 294,
   "id": "6143c90a",
   "metadata": {},
   "outputs": [
    {
     "name": "stdout",
     "output_type": "stream",
     "text": [
      "홍길동 010-1234-5678 hello@gmail.com 사원\n",
      "김철수 010-1111-2222 chulsoo@naver.com 대리\n",
      "박새로이 010-2000-3000 park@yahoo.co.kr 과장\n",
      "이도윤 010-3030-4040 lee@daum.net 차장\n",
      "서은우 010-5566-7788 seo@naver.com 부장\n"
     ]
    }
   ],
   "source": [
    "# 파워포인트를 로드합니다.\n",
    "ppt = Presentation('명함템플릿.pptx')\n",
    "        \n",
    "# 각 행 별 데이터를 순회\n",
    "for (idx, row) in data.iterrows():\n",
    "    # 슬라이드 복제\n",
    "    ppt = duplicate_slide_with_image(ppt)\n",
    "    \n",
    "    # -1 인덱스로 가장 최근에 추가한 슬라이드 가져오기\n",
    "    last_slide = ppt.slides[-1]\n",
    "    \n",
    "    # TEXT 변경        \n",
    "    copy_text(last_slide.shapes, 2, row['이메일'])\n",
    "    copy_text(last_slide.shapes, 5, row['연락처'])\n",
    "    copy_text(last_slide.shapes, 6, row['호칭'])\n",
    "    copy_text(last_slide.shapes, 7, ' '.join(row['이름']))\n",
    "    \n",
    "    print(row['이름'], row['연락처'], row['이메일'], row['호칭'])\n",
    "\n",
    "# 저장합니다.\n",
    "ppt.save('명함템플릿_수정2.pptx')"
   ]
  },
  {
   "cell_type": "markdown",
   "id": "0411a0a9",
   "metadata": {},
   "source": [
    "## 클래스화"
   ]
  },
  {
   "cell_type": "code",
   "execution_count": 322,
   "id": "06fbc312",
   "metadata": {},
   "outputs": [],
   "source": [
    "class PPTGenerator():\n",
    "    def __init__(self, excel_file, ppt_file):\n",
    "        self.excel = pd.read_excel(excel_file)\n",
    "        self.ppt = Presentation(ppt_file)\n",
    "        self.font_names = dict()\n",
    "        self.font_sizes = dict()\n",
    "        self.font_colors = dict()\n",
    "        self.maps = dict()\n",
    "        display(self.excel.head())\n",
    "        self.initialize()\n",
    "        \n",
    "    def initialize(self):\n",
    "        ppt = duplicate_slide_with_image(self.ppt)\n",
    "\n",
    "        copied_slide = ppt.slides[-1]\n",
    "\n",
    "        font_names = dict()\n",
    "        font_sizes = dict()\n",
    "        font_colors = dict()\n",
    "\n",
    "        # 개체들의 번호를 확인합니다.\n",
    "        for idx, shape in enumerate(copied_slide.shapes):\n",
    "            # 사진 개체가 아니라 TEXT 개체만 출력\n",
    "            if isinstance(shape, pptx.shapes.autoshape.Shape):\n",
    "                print(idx)\n",
    "                print(shape.text)\n",
    "                font_names[idx] = shape.text_frame.paragraphs[0].runs[0].font.name\n",
    "                font_sizes[idx] = shape.text_frame.paragraphs[0].runs[0].font.size\n",
    "\n",
    "                if shape.text_frame.paragraphs[0].runs[0].font.color.type is not None:\n",
    "                    font_colors[idx] = shape.text_frame.paragraphs[0].runs[0].font.color.theme_color\n",
    "\n",
    "                print('====='*10)\n",
    "        \n",
    "    def add_map(self, idx, col_name):\n",
    "        self.maps[idx] = col_name\n",
    "    \n",
    "    def duplicate_slide_with_image(self):\n",
    "        shapes = list(self.ppt.slides)[0].shapes\n",
    "        new_slide = self.ppt.slides.add_slide(self.ppt.slide_layouts[6])\n",
    "\n",
    "        # Image Dict 생성\n",
    "        imgDict = {}\n",
    "\n",
    "        for shape in shapes:\n",
    "            # 이미지 개체 복사 코드\n",
    "            if isinstance(shape, pptx.shapes.picture.Picture):\n",
    "                # 이미지 저장\n",
    "                with open(shape.name+'.png', 'wb') as f:\n",
    "                    f.write(shape.image.blob)\n",
    "\n",
    "                # 이미지를 dict에 추가\n",
    "                imgDict[shape.name+'.png'] = [shape.left, shape.top, shape.width, shape.height]\n",
    "            else:\n",
    "                elem = shape.element\n",
    "                new_elem = copy.deepcopy(elem)\n",
    "                new_slide.shapes._spTree.insert_element_before(new_elem, 'p:extLst')\n",
    "\n",
    "\n",
    "        # 이미지 추가\n",
    "        for k, v in imgDict.items():\n",
    "            new_slide.shapes.add_picture(k, v[0], v[1], v[2], v[3])\n",
    "            os.remove(k)\n",
    "        \n",
    "        return new_slide\n",
    "            \n",
    "    def copy_text(self, shape, idx, text):\n",
    "        shape[idx].text_frame.text = text\n",
    "        shape[idx].text_frame.paragraphs[0].font.name = self.font_names[idx]\n",
    "        shape[idx].text_frame.paragraphs[0].font.size = self.font_sizes[idx]\n",
    "        shape[idx].text_frame.paragraphs[0].font.color.theme_color = self.font_colors[idx]\n",
    "        \n",
    "    def generate(self):\n",
    "        for (idx, row) in self.excel.iterrows():\n",
    "            # 슬라이드 복제\n",
    "            last_slide = self.duplicate_slide_with_image()\n",
    "\n",
    "            # TEXT 변경        \n",
    "            for map_idx, col_name in self.maps.items():\n",
    "                copy_text(last_slide.shapes, map_idx, row[col_name])\n",
    "                \n",
    "    def save(self, filename):\n",
    "        xml_slides = self.ppt.slides._sldIdLst  \n",
    "        slides = list(xml_slides)\n",
    "        xml_slides.remove(slides[1])\n",
    "        self.ppt.save(filename)        "
   ]
  },
  {
   "cell_type": "code",
   "execution_count": 324,
   "id": "8308e892",
   "metadata": {},
   "outputs": [
    {
     "data": {
      "text/html": [
       "<div>\n",
       "<style scoped>\n",
       "    .dataframe tbody tr th:only-of-type {\n",
       "        vertical-align: middle;\n",
       "    }\n",
       "\n",
       "    .dataframe tbody tr th {\n",
       "        vertical-align: top;\n",
       "    }\n",
       "\n",
       "    .dataframe thead th {\n",
       "        text-align: right;\n",
       "    }\n",
       "</style>\n",
       "<table border=\"1\" class=\"dataframe\">\n",
       "  <thead>\n",
       "    <tr style=\"text-align: right;\">\n",
       "      <th></th>\n",
       "      <th>이름</th>\n",
       "      <th>나이</th>\n",
       "      <th>이메일</th>\n",
       "      <th>호칭</th>\n",
       "      <th>연락처</th>\n",
       "    </tr>\n",
       "  </thead>\n",
       "  <tbody>\n",
       "    <tr>\n",
       "      <th>0</th>\n",
       "      <td>홍길동</td>\n",
       "      <td>27</td>\n",
       "      <td>hello@gmail.com</td>\n",
       "      <td>사원</td>\n",
       "      <td>010-1234-5678</td>\n",
       "    </tr>\n",
       "    <tr>\n",
       "      <th>1</th>\n",
       "      <td>김철수</td>\n",
       "      <td>29</td>\n",
       "      <td>chulsoo@naver.com</td>\n",
       "      <td>대리</td>\n",
       "      <td>010-1111-2222</td>\n",
       "    </tr>\n",
       "    <tr>\n",
       "      <th>2</th>\n",
       "      <td>박새로이</td>\n",
       "      <td>32</td>\n",
       "      <td>park@yahoo.co.kr</td>\n",
       "      <td>과장</td>\n",
       "      <td>010-2000-3000</td>\n",
       "    </tr>\n",
       "    <tr>\n",
       "      <th>3</th>\n",
       "      <td>이도윤</td>\n",
       "      <td>41</td>\n",
       "      <td>lee@daum.net</td>\n",
       "      <td>차장</td>\n",
       "      <td>010-3030-4040</td>\n",
       "    </tr>\n",
       "    <tr>\n",
       "      <th>4</th>\n",
       "      <td>서은우</td>\n",
       "      <td>50</td>\n",
       "      <td>seo@naver.com</td>\n",
       "      <td>부장</td>\n",
       "      <td>010-5566-7788</td>\n",
       "    </tr>\n",
       "  </tbody>\n",
       "</table>\n",
       "</div>"
      ],
      "text/plain": [
       "     이름  나이                이메일  호칭            연락처\n",
       "0   홍길동  27    hello@gmail.com  사원  010-1234-5678\n",
       "1   김철수  29  chulsoo@naver.com  대리  010-1111-2222\n",
       "2  박새로이  32   park@yahoo.co.kr  과장  010-2000-3000\n",
       "3   이도윤  41       lee@daum.net  차장  010-3030-4040\n",
       "4   서은우  50      seo@naver.com  부장  010-5566-7788"
      ]
     },
     "metadata": {},
     "output_type": "display_data"
    },
    {
     "name": "stdout",
     "output_type": "stream",
     "text": [
      "0\n",
      "031 - 123 - 4567\n",
      "==================================================\n",
      "1\n",
      "경기도 성남시 분당구 삼평동 판교역로 160\n",
      "==================================================\n",
      "2\n",
      "email@naver.com\n",
      "==================================================\n",
      "3\n",
      "https://www.youtube.com/c/teddynote\n",
      "==================================================\n",
      "4\n",
      "㈜ 테디노트\n",
      "“여러분의 자동화를 응원합니다＂\n",
      "==================================================\n",
      "5\n",
      "010-1234-5678\n",
      "==================================================\n",
      "6\n",
      "대표이사\n",
      "==================================================\n",
      "7\n",
      "이 테 디\n",
      "==================================================\n"
     ]
    }
   ],
   "source": [
    "ppt = PPTGenerator('이름샘플.xlsx', '명함템플릿.pptx')\n",
    "\n",
    "ppt.add_map(2, '이메일')\n",
    "ppt.add_map(5, '연락처')\n",
    "ppt.add_map(6, '호칭')\n",
    "ppt.add_map(7, '이름')\n",
    "\n",
    "ppt.generate()\n",
    "ppt.save('테스트.pptx')"
   ]
  }
 ],
 "metadata": {
  "kernelspec": {
   "display_name": "Python 3 (ipykernel)",
   "language": "python",
   "name": "python3"
  },
  "language_info": {
   "codemirror_mode": {
    "name": "ipython",
    "version": 3
   },
   "file_extension": ".py",
   "mimetype": "text/x-python",
   "name": "python",
   "nbconvert_exporter": "python",
   "pygments_lexer": "ipython3",
   "version": "3.8.12"
  }
 },
 "nbformat": 4,
 "nbformat_minor": 5
}
